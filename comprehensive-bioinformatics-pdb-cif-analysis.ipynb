{
 "cells": [
  {
   "cell_type": "markdown",
   "metadata": {},
   "source": [
    "<a href=\"https://www.kaggle.com/code/hashemi221022/comprehensive-bioinformatics-pdb-cif-analysis?scriptVersionId=239237481\" target=\"_blank\"><img align=\"left\" alt=\"Kaggle\" title=\"Open in Kaggle\" src=\"https://kaggle.com/static/images/open-in-kaggle.svg\"></a>"
   ]
  },
  {
   "cell_type": "markdown",
   "id": "19e07cef",
   "metadata": {
    "papermill": {
     "duration": 0.009974,
     "end_time": "2025-05-12T09:47:52.698053",
     "exception": false,
     "start_time": "2025-05-12T09:47:52.688079",
     "status": "completed"
    },
    "tags": []
   },
   "source": [
    "<h1><center style=\"font-family:newtimeroman;font-size:150%; border-radius:50px; padding: 20px; color: yellow; background-color: black\">Bioinformatics-PDB And CIF format files Analysis And Visualization</center></h1>\n",
    "<center><img style=\"border-radius: 20px 20px 20px 20px\" src='data:image/jpeg;base64,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' height=300px width=500px border-radius=55%></center><br>\n"
   ]
  },
  {
   "cell_type": "code",
   "execution_count": 1,
   "id": "e75213c9",
   "metadata": {
    "collapsed": true,
    "execution": {
     "iopub.execute_input": "2025-05-12T09:47:52.717822Z",
     "iopub.status.busy": "2025-05-12T09:47:52.71718Z",
     "iopub.status.idle": "2025-05-12T09:48:01.431091Z",
     "shell.execute_reply": "2025-05-12T09:48:01.429947Z"
    },
    "jupyter": {
     "outputs_hidden": true
    },
    "papermill": {
     "duration": 8.725341,
     "end_time": "2025-05-12T09:48:01.43297",
     "exception": false,
     "start_time": "2025-05-12T09:47:52.707629",
     "status": "completed"
    },
    "tags": []
   },
   "outputs": [],
   "source": [
    "#!pip install Bio\n",
    "#!pip install nglview"
   ]
  },
  {
   "cell_type": "markdown",
   "id": "04c41b9d",
   "metadata": {
    "papermill": {
     "duration": 0.01006,
     "end_time": "2025-05-12T09:48:01.453593",
     "exception": false,
     "start_time": "2025-05-12T09:48:01.443533",
     "status": "completed"
    },
    "tags": []
   },
   "source": [
    "# <p style=\"background-color:black; font-family:calibri; color:#FF00FF; font-size:170%; text-align:center; border-radius:30px 30px;\">1. The First Step | Import Requier Library</p>"
   ]
  },
  {
   "cell_type": "code",
   "execution_count": 2,
   "id": "8983b355",
   "metadata": {
    "execution": {
     "iopub.execute_input": "2025-05-12T09:48:01.474872Z",
     "iopub.status.busy": "2025-05-12T09:48:01.474544Z",
     "iopub.status.idle": "2025-05-12T09:48:03.954523Z",
     "shell.execute_reply": "2025-05-12T09:48:03.953206Z"
    },
    "papermill": {
     "duration": 2.493648,
     "end_time": "2025-05-12T09:48:03.95717",
     "exception": false,
     "start_time": "2025-05-12T09:48:01.463522",
     "status": "completed"
    },
    "tags": []
   },
   "outputs": [
    {
     "data": {
      "application/vnd.jupyter.widget-view+json": {
       "model_id": "033241c132c64b07bdd250f5d9943c51",
       "version_major": 2,
       "version_minor": 0
      },
      "text/plain": []
     },
     "metadata": {},
     "output_type": "display_data"
    }
   ],
   "source": [
    "# Import required libraries\n",
    "from Bio.PDB.MMCIFParser import MMCIFParser\n",
    "from Bio.PDB.MMCIF2Dict import MMCIF2Dict\n",
    "from Bio.PDB import PDBParser, PDBIO\n",
    "from Bio.PDB import NeighborSearch\n",
    "from Bio.PDB import PDBList\n",
    "import pandas as pd\n",
    "import nglview as nv\n",
    "import requests\n",
    "import shutil\n",
    "import os"
   ]
  },
  {
   "cell_type": "markdown",
   "id": "6d6dea81",
   "metadata": {
    "papermill": {
     "duration": 0.012335,
     "end_time": "2025-05-12T09:48:03.990752",
     "exception": false,
     "start_time": "2025-05-12T09:48:03.978417",
     "status": "completed"
    },
    "tags": []
   },
   "source": [
    "# <p style=\"background-color:black; font-family:calibri; color:#FF00FF; font-size:170%; text-align:center; border-radius:30px 30px;\">2. The Second Step | Make Directory and Download/preparation Data</p>"
   ]
  },
  {
   "cell_type": "code",
   "execution_count": 3,
   "id": "d1dba477",
   "metadata": {
    "execution": {
     "iopub.execute_input": "2025-05-12T09:48:04.021435Z",
     "iopub.status.busy": "2025-05-12T09:48:04.020921Z",
     "iopub.status.idle": "2025-05-12T09:48:04.025688Z",
     "shell.execute_reply": "2025-05-12T09:48:04.024718Z"
    },
    "papermill": {
     "duration": 0.02209,
     "end_time": "2025-05-12T09:48:04.027287",
     "exception": false,
     "start_time": "2025-05-12T09:48:04.005197",
     "status": "completed"
    },
    "tags": []
   },
   "outputs": [],
   "source": [
    "# Ignore warning\n",
    "import warnings\n",
    "warnings.filterwarnings(\"ignore\")"
   ]
  },
  {
   "cell_type": "code",
   "execution_count": 4,
   "id": "a4ed8877",
   "metadata": {
    "execution": {
     "iopub.execute_input": "2025-05-12T09:48:04.048935Z",
     "iopub.status.busy": "2025-05-12T09:48:04.048616Z",
     "iopub.status.idle": "2025-05-12T09:48:04.055776Z",
     "shell.execute_reply": "2025-05-12T09:48:04.054798Z"
    },
    "papermill": {
     "duration": 0.019511,
     "end_time": "2025-05-12T09:48:04.057384",
     "exception": false,
     "start_time": "2025-05-12T09:48:04.037873",
     "status": "completed"
    },
    "tags": []
   },
   "outputs": [
    {
     "data": {
      "text/plain": [
       "['__notebook__.ipynb']"
      ]
     },
     "execution_count": 4,
     "metadata": {},
     "output_type": "execute_result"
    }
   ],
   "source": [
    "# Show all the file that is exist in directory\n",
    "os.listdir()"
   ]
  },
  {
   "cell_type": "code",
   "execution_count": 5,
   "id": "3645fef1",
   "metadata": {
    "execution": {
     "iopub.execute_input": "2025-05-12T09:48:04.079804Z",
     "iopub.status.busy": "2025-05-12T09:48:04.07944Z",
     "iopub.status.idle": "2025-05-12T09:48:04.084202Z",
     "shell.execute_reply": "2025-05-12T09:48:04.083297Z"
    },
    "papermill": {
     "duration": 0.017901,
     "end_time": "2025-05-12T09:48:04.085819",
     "exception": false,
     "start_time": "2025-05-12T09:48:04.067918",
     "status": "completed"
    },
    "tags": []
   },
   "outputs": [],
   "source": [
    "# Create a new directory\n",
    "os.mkdir(\"pdb_files\")"
   ]
  },
  {
   "cell_type": "code",
   "execution_count": 6,
   "id": "2ec959bb",
   "metadata": {
    "execution": {
     "iopub.execute_input": "2025-05-12T09:48:04.107803Z",
     "iopub.status.busy": "2025-05-12T09:48:04.10749Z",
     "iopub.status.idle": "2025-05-12T09:48:04.113972Z",
     "shell.execute_reply": "2025-05-12T09:48:04.112985Z"
    },
    "papermill": {
     "duration": 0.019428,
     "end_time": "2025-05-12T09:48:04.11586",
     "exception": false,
     "start_time": "2025-05-12T09:48:04.096432",
     "status": "completed"
    },
    "tags": []
   },
   "outputs": [
    {
     "data": {
      "text/plain": [
       "['pdb_files', '__notebook__.ipynb']"
      ]
     },
     "execution_count": 6,
     "metadata": {},
     "output_type": "execute_result"
    }
   ],
   "source": [
    "# Show all the file that is exist in directory\n",
    "os.listdir()"
   ]
  },
  {
   "cell_type": "code",
   "execution_count": 7,
   "id": "bb1be8eb",
   "metadata": {
    "execution": {
     "iopub.execute_input": "2025-05-12T09:48:04.137379Z",
     "iopub.status.busy": "2025-05-12T09:48:04.137033Z",
     "iopub.status.idle": "2025-05-12T09:48:04.821539Z",
     "shell.execute_reply": "2025-05-12T09:48:04.820597Z"
    },
    "papermill": {
     "duration": 0.696771,
     "end_time": "2025-05-12T09:48:04.822949",
     "exception": false,
     "start_time": "2025-05-12T09:48:04.126178",
     "status": "completed"
    },
    "tags": []
   },
   "outputs": [
    {
     "name": "stdout",
     "output_type": "stream",
     "text": [
      "Downloading PDB structure '2v0z'...\n",
      "pdb_files/2v0z.cif\n"
     ]
    }
   ],
   "source": [
    "# Dowanload 2v0z.cif file\n",
    "pdb_list = PDBList() # Create PDBList class\n",
    "pdb_id = \"2v0z\" # pdb id\n",
    "pdb_file = pdb_list.retrieve_pdb_file(pdb_id, pdir= \"pdb_files\",file_format=\"mmCif\") # Dowanload cif file\n",
    "print(pdb_file) # Show info"
   ]
  },
  {
   "cell_type": "code",
   "execution_count": 8,
   "id": "91c3d65b",
   "metadata": {
    "execution": {
     "iopub.execute_input": "2025-05-12T09:48:04.845048Z",
     "iopub.status.busy": "2025-05-12T09:48:04.844747Z",
     "iopub.status.idle": "2025-05-12T09:48:05.133386Z",
     "shell.execute_reply": "2025-05-12T09:48:05.132309Z"
    },
    "papermill": {
     "duration": 0.301359,
     "end_time": "2025-05-12T09:48:05.134911",
     "exception": false,
     "start_time": "2025-05-12T09:48:04.833552",
     "status": "completed"
    },
    "tags": []
   },
   "outputs": [
    {
     "name": "stdout",
     "output_type": "stream",
     "text": [
      "Downloading PDB structure '2v0z'...\n",
      "pdb_files/pdb2v0z.ent\n"
     ]
    }
   ],
   "source": [
    "# Dowanload 2v0z.ent file\n",
    "pdb_list = PDBList() # Create PDBList class\n",
    "pdb_id = \"2v0z\" # pdb id\n",
    "pdb_filename = pdb_list.retrieve_pdb_file(pdb_id, pdir= \"pdb_files\", file_format=\"pdb\") # Dowanload cif file\n",
    "print(pdb_filename)  # Show info"
   ]
  },
  {
   "cell_type": "code",
   "execution_count": 9,
   "id": "ddf3c6d4",
   "metadata": {
    "execution": {
     "iopub.execute_input": "2025-05-12T09:48:05.156773Z",
     "iopub.status.busy": "2025-05-12T09:48:05.156485Z",
     "iopub.status.idle": "2025-05-12T09:48:05.25577Z",
     "shell.execute_reply": "2025-05-12T09:48:05.254757Z"
    },
    "papermill": {
     "duration": 0.111978,
     "end_time": "2025-05-12T09:48:05.257296",
     "exception": false,
     "start_time": "2025-05-12T09:48:05.145318",
     "status": "completed"
    },
    "tags": []
   },
   "outputs": [
    {
     "name": "stdout",
     "output_type": "stream",
     "text": [
      "Downloaded 2v0z.pdb to pdb_files\n"
     ]
    }
   ],
   "source": [
    "def download_pdb_file(pdb_id, output_dir):\n",
    "    \"\"\"Downloads the .pdb file for a given PDB ID.\n",
    "\n",
    "    Args:\n",
    "        pdb_id (str): The PDB ID of the structure to download.\n",
    "        output_dir (str): The directory to save the downloaded .pdb file.\n",
    "    \"\"\"\n",
    "    url = f\"https://files.rcsb.org/download/{pdb_id}.pdb\"\n",
    "    response = requests.get(url)\n",
    "\n",
    "    if response.status_code == 200:\n",
    "        with open(f\"{output_dir}/{pdb_id}.pdb\", \"wb\") as file:\n",
    "            file.write(response.content)\n",
    "        print(f\"Downloaded {pdb_id}.pdb to {output_dir}\")\n",
    "    else:\n",
    "        print(f\"Failed to download {pdb_id}.pdb\")\n",
    "        \n",
    "pdb_id = \"2v0z\"\n",
    "output_directory = \"pdb_files\"\n",
    "download_pdb_file(pdb_id, output_directory)"
   ]
  },
  {
   "cell_type": "code",
   "execution_count": 10,
   "id": "f7bb829b",
   "metadata": {
    "execution": {
     "iopub.execute_input": "2025-05-12T09:48:05.280051Z",
     "iopub.status.busy": "2025-05-12T09:48:05.278994Z",
     "iopub.status.idle": "2025-05-12T09:48:05.284111Z",
     "shell.execute_reply": "2025-05-12T09:48:05.283157Z"
    },
    "papermill": {
     "duration": 0.017966,
     "end_time": "2025-05-12T09:48:05.285732",
     "exception": false,
     "start_time": "2025-05-12T09:48:05.267766",
     "status": "completed"
    },
    "tags": []
   },
   "outputs": [
    {
     "name": "stdout",
     "output_type": "stream",
     "text": [
      "/kaggle/working/pdb_files/pdb2v0z.ent\n"
     ]
    }
   ],
   "source": [
    "# make a ent file Path\n",
    "path_of_ent_file = os.path.join(\"/kaggle/working/pdb_files\", \"pdb2v0z.ent\")\n",
    "print(path_of_ent_file)"
   ]
  },
  {
   "cell_type": "code",
   "execution_count": 11,
   "id": "e5622d10",
   "metadata": {
    "execution": {
     "iopub.execute_input": "2025-05-12T09:48:05.308186Z",
     "iopub.status.busy": "2025-05-12T09:48:05.30786Z",
     "iopub.status.idle": "2025-05-12T09:48:05.312887Z",
     "shell.execute_reply": "2025-05-12T09:48:05.311826Z"
    },
    "papermill": {
     "duration": 0.018058,
     "end_time": "2025-05-12T09:48:05.31441",
     "exception": false,
     "start_time": "2025-05-12T09:48:05.296352",
     "status": "completed"
    },
    "tags": []
   },
   "outputs": [
    {
     "name": "stdout",
     "output_type": "stream",
     "text": [
      "/kaggle/working/pdb_files/2v0z.cif\n"
     ]
    }
   ],
   "source": [
    "# make a cif file Path\n",
    "path_of_cif_file = os.path.join(\"/kaggle/working/pdb_files\", \"2v0z.cif\")\n",
    "print(path_of_cif_file)"
   ]
  },
  {
   "cell_type": "code",
   "execution_count": 12,
   "id": "729a4066",
   "metadata": {
    "execution": {
     "iopub.execute_input": "2025-05-12T09:48:05.337145Z",
     "iopub.status.busy": "2025-05-12T09:48:05.336798Z",
     "iopub.status.idle": "2025-05-12T09:48:05.34194Z",
     "shell.execute_reply": "2025-05-12T09:48:05.340944Z"
    },
    "papermill": {
     "duration": 0.018339,
     "end_time": "2025-05-12T09:48:05.343337",
     "exception": false,
     "start_time": "2025-05-12T09:48:05.324998",
     "status": "completed"
    },
    "tags": []
   },
   "outputs": [
    {
     "name": "stdout",
     "output_type": "stream",
     "text": [
      "/kaggle/working/pdb_files/2v0z.pdb\n"
     ]
    }
   ],
   "source": [
    "# make a pdb file Path\n",
    "path_of_pdb_file = os.path.join(\"/kaggle/working/pdb_files\", \"2v0z.pdb\")\n",
    "print(path_of_pdb_file)"
   ]
  },
  {
   "cell_type": "markdown",
   "id": "24fee25b",
   "metadata": {
    "papermill": {
     "duration": 0.010518,
     "end_time": "2025-05-12T09:48:05.364686",
     "exception": false,
     "start_time": "2025-05-12T09:48:05.354168",
     "status": "completed"
    },
    "tags": []
   },
   "source": [
    "# <p style=\"background-color:black; font-family:calibri; color:#FF00FF; font-size:170%; text-align:center; border-radius:30px 30px;\">3. The Third Step | Analysis PDB File By Python</p>"
   ]
  },
  {
   "cell_type": "code",
   "execution_count": 13,
   "id": "58bed00c",
   "metadata": {
    "execution": {
     "iopub.execute_input": "2025-05-12T09:48:05.388951Z",
     "iopub.status.busy": "2025-05-12T09:48:05.387922Z",
     "iopub.status.idle": "2025-05-12T09:48:05.395121Z",
     "shell.execute_reply": "2025-05-12T09:48:05.394166Z"
    },
    "papermill": {
     "duration": 0.021084,
     "end_time": "2025-05-12T09:48:05.396664",
     "exception": false,
     "start_time": "2025-05-12T09:48:05.37558",
     "status": "completed"
    },
    "tags": []
   },
   "outputs": [],
   "source": [
    "# Open and read file\n",
    "with open(path_of_ent_file) as fp:\n",
    "    data= fp.readlines()"
   ]
  },
  {
   "cell_type": "code",
   "execution_count": 14,
   "id": "e6491091",
   "metadata": {
    "execution": {
     "iopub.execute_input": "2025-05-12T09:48:05.487815Z",
     "iopub.status.busy": "2025-05-12T09:48:05.4871Z",
     "iopub.status.idle": "2025-05-12T09:48:05.492546Z",
     "shell.execute_reply": "2025-05-12T09:48:05.491395Z"
    },
    "papermill": {
     "duration": 0.018668,
     "end_time": "2025-05-12T09:48:05.494035",
     "exception": false,
     "start_time": "2025-05-12T09:48:05.475367",
     "status": "completed"
    },
    "tags": []
   },
   "outputs": [
    {
     "name": "stdout",
     "output_type": "stream",
     "text": [
      "HEADER    HYDROLASE                               21-MAY-07   2V0Z              \n",
      "\n",
      "TITLE     CRYSTAL STRUCTURE OF RENIN WITH INHIBITOR 10 (ALISKIREN)              \n",
      "\n",
      "CAVEAT     2V0Z    NAG C 1327 HAS WRONG CHIRALITY AT ATOM C1 NAG O 1328 HAS     \n",
      "\n",
      "CAVEAT   2 2V0Z    WRONG CHIRALITY AT ATOM C1                                   \n",
      "\n",
      "COMPND    MOL_ID: 1;                                                            \n",
      "\n",
      "COMPND   2 MOLECULE: RENIN;                                                     \n",
      "\n",
      "COMPND   3 CHAIN: C, O;                                                         \n",
      "\n",
      "COMPND   4 SYNONYM: ANGIOTENSINOGENASE;                                         \n",
      "\n",
      "COMPND   5 EC: 3.4.23.15;                                                       \n",
      "\n",
      "COMPND   6 ENGINEERED: YES                                                      \n",
      "\n",
      "SOURCE    MOL_ID: 1;                                                            \n",
      "\n",
      "SOURCE   2 ORGANISM_SCIENTIFIC: HOMO SAPIENS;                                   \n",
      "\n",
      "SOURCE   3 ORGANISM_COMMON: HUMAN;                                              \n",
      "\n",
      "SOURCE   4 ORGANISM_TAXID: 9606;                                                \n",
      "\n",
      "SOURCE   5 EXPRESSION_SYSTEM: CRICETULUS GRISEUS;                               \n",
      "\n",
      "SOURCE   6 EXPRESSION_SYSTEM_TAXID: 10029;                                      \n",
      "\n",
      "SOURCE   7 EXPRESSION_SYSTEM_CELL_LINE: CHO                                     \n",
      "\n",
      "KEYWDS    GLYCOPROTEIN, INHIBITOR-COMPLEX, ASPARTYL PROTEASE, ZYMOGEN,          \n",
      "\n",
      "KEYWDS   2 PROTEASE, HYDROLASE, POLYMORPHISM, ALTERNATIVE SPLICING,             \n",
      "\n",
      "KEYWDS   3 HYDROLASE(ACID PROTEINASE), CLEAVAGE ON PAIR OF BASIC RESIDUES       \n",
      "\n"
     ]
    }
   ],
   "source": [
    "# PDB file\n",
    "for lines in data[:20]:\n",
    "    print(lines)"
   ]
  },
  {
   "cell_type": "code",
   "execution_count": 15,
   "id": "5b0ed3d6",
   "metadata": {
    "execution": {
     "iopub.execute_input": "2025-05-12T09:48:05.518045Z",
     "iopub.status.busy": "2025-05-12T09:48:05.517779Z",
     "iopub.status.idle": "2025-05-12T09:48:05.522642Z",
     "shell.execute_reply": "2025-05-12T09:48:05.521739Z"
    },
    "papermill": {
     "duration": 0.018519,
     "end_time": "2025-05-12T09:48:05.524185",
     "exception": false,
     "start_time": "2025-05-12T09:48:05.505666",
     "status": "completed"
    },
    "tags": []
   },
   "outputs": [
    {
     "name": "stdout",
     "output_type": "stream",
     "text": [
      "The PDB ID is pdb2v0z\n"
     ]
    }
   ],
   "source": [
    "# File name\n",
    "file_name = os.path.basename(path_of_ent_file)\n",
    "pdb_id = file_name.split(\".\")[0]\n",
    "print(f\"The PDB ID is {pdb_id}\")"
   ]
  },
  {
   "cell_type": "code",
   "execution_count": 16,
   "id": "a10eeee3",
   "metadata": {
    "execution": {
     "iopub.execute_input": "2025-05-12T09:48:05.54799Z",
     "iopub.status.busy": "2025-05-12T09:48:05.547728Z",
     "iopub.status.idle": "2025-05-12T09:48:05.552251Z",
     "shell.execute_reply": "2025-05-12T09:48:05.551299Z"
    },
    "papermill": {
     "duration": 0.018253,
     "end_time": "2025-05-12T09:48:05.553911",
     "exception": false,
     "start_time": "2025-05-12T09:48:05.535658",
     "status": "completed"
    },
    "tags": []
   },
   "outputs": [
    {
     "name": "stdout",
     "output_type": "stream",
     "text": [
      "There are 6695 lins in this file.\n"
     ]
    }
   ],
   "source": [
    "# How many line in the files?\n",
    "print(f\"There are {len(data)} lins in this file.\")"
   ]
  },
  {
   "cell_type": "code",
   "execution_count": 17,
   "id": "eeb6d17f",
   "metadata": {
    "execution": {
     "iopub.execute_input": "2025-05-12T09:48:05.577817Z",
     "iopub.status.busy": "2025-05-12T09:48:05.577493Z",
     "iopub.status.idle": "2025-05-12T09:48:05.5836Z",
     "shell.execute_reply": "2025-05-12T09:48:05.582071Z"
    },
    "papermill": {
     "duration": 0.020091,
     "end_time": "2025-05-12T09:48:05.585442",
     "exception": false,
     "start_time": "2025-05-12T09:48:05.565351",
     "status": "completed"
    },
    "tags": []
   },
   "outputs": [
    {
     "name": "stdout",
     "output_type": "stream",
     "text": [
      "Header : HYDROLASE                               21-MAY-07   2V0Z              \n",
      "\n",
      "Title : CRYSTAL STRUCTURE OF RENIN WITH INHIBITOR 10 (ALISKIREN)              \n",
      "\n"
     ]
    }
   ],
   "source": [
    "# get info()\n",
    "header = data[0][10: ]\n",
    "title = data[1][10: ]\n",
    "print(f\"Header : {header}\")\n",
    "print(f\"Title : {title}\")"
   ]
  },
  {
   "cell_type": "code",
   "execution_count": 18,
   "id": "c2d1dfab",
   "metadata": {
    "execution": {
     "iopub.execute_input": "2025-05-12T09:48:05.609927Z",
     "iopub.status.busy": "2025-05-12T09:48:05.609616Z",
     "iopub.status.idle": "2025-05-12T09:48:05.616126Z",
     "shell.execute_reply": "2025-05-12T09:48:05.615302Z"
    },
    "papermill": {
     "duration": 0.020351,
     "end_time": "2025-05-12T09:48:05.617817",
     "exception": false,
     "start_time": "2025-05-12T09:48:05.597466",
     "status": "completed"
    },
    "tags": []
   },
   "outputs": [
    {
     "name": "stdout",
     "output_type": "stream",
     "text": [
      "Hetrogen molecule 1 is C41 or it's complete name is  C41 ALISKIREN                                                        \n",
      "\n",
      "Hetrogen molecule 2 is NAG or it's complete name is  NAG 2-ACETAMIDO-2-DEOXY-BETA-D-GLUCOPYRANOSE                         \n",
      "\n"
     ]
    }
   ],
   "source": [
    "# Find special info from data\n",
    "# number of ligand\n",
    "het_name =list() \n",
    "for lines in data:\n",
    "    if \"HETNAM\" in lines and \"REVDAT\" not in lines:\n",
    "        het_name.append(lines)\n",
    "ligand_1 = het_name[1].split()[1]\n",
    "ligand_2 = het_name[0].split()[1]\n",
    "ligand_1_complete_name = het_name[1][10:]\n",
    "ligand_2_complete_name = het_name[0][10:]\n",
    "print(f\"Hetrogen molecule 1 is {ligand_1} or it's complete name is {ligand_1_complete_name}\")\n",
    "print(f\"Hetrogen molecule 2 is {ligand_2} or it's complete name is {ligand_2_complete_name}\")\n"
   ]
  },
  {
   "cell_type": "code",
   "execution_count": 19,
   "id": "a1b58dd3",
   "metadata": {
    "execution": {
     "iopub.execute_input": "2025-05-12T09:48:05.641654Z",
     "iopub.status.busy": "2025-05-12T09:48:05.641369Z",
     "iopub.status.idle": "2025-05-12T09:48:05.647701Z",
     "shell.execute_reply": "2025-05-12T09:48:05.646677Z"
    },
    "papermill": {
     "duration": 0.019924,
     "end_time": "2025-05-12T09:48:05.649211",
     "exception": false,
     "start_time": "2025-05-12T09:48:05.629287",
     "status": "completed"
    },
    "tags": []
   },
   "outputs": [
    {
     "name": "stdout",
     "output_type": "stream",
     "text": [
      "In this file 2 chain exist : Chain O and chain C\n"
     ]
    }
   ],
   "source": [
    "# Find special info from data\n",
    "# number of protein chains\n",
    "chain_name =list() \n",
    "for lines in data:\n",
    "    if \"TER\" in lines:\n",
    "        chain_name.append(lines)\n",
    "chain_o = chain_name[-2].split()[3]\n",
    "chain_c = chain_name[-3].split()[3]\n",
    "print(f\"In this file 2 chain exist : Chain {chain_o} and chain {chain_c}\")"
   ]
  },
  {
   "cell_type": "code",
   "execution_count": 20,
   "id": "cb06cc36",
   "metadata": {
    "execution": {
     "iopub.execute_input": "2025-05-12T09:48:05.675759Z",
     "iopub.status.busy": "2025-05-12T09:48:05.675448Z",
     "iopub.status.idle": "2025-05-12T09:48:05.681522Z",
     "shell.execute_reply": "2025-05-12T09:48:05.680531Z"
    },
    "papermill": {
     "duration": 0.021027,
     "end_time": "2025-05-12T09:48:05.682994",
     "exception": false,
     "start_time": "2025-05-12T09:48:05.661967",
     "status": "completed"
    },
    "tags": []
   },
   "outputs": [
    {
     "name": "stdout",
     "output_type": "stream",
     "text": [
      "Resolution is 2.20 Angstrom\n"
     ]
    }
   ],
   "source": [
    "# Find special info from data\n",
    "# Find resolution\n",
    "for lines in data:\n",
    "    if \"RESOLUTION.\" in lines:\n",
    "        res_line = lines\n",
    "        resolution = res_line.split()[3]\n",
    "print(f\"Resolution is {resolution} Angstrom\")\n"
   ]
  },
  {
   "cell_type": "code",
   "execution_count": 21,
   "id": "18ed953b",
   "metadata": {
    "execution": {
     "iopub.execute_input": "2025-05-12T09:48:05.707889Z",
     "iopub.status.busy": "2025-05-12T09:48:05.706971Z",
     "iopub.status.idle": "2025-05-12T09:48:05.713478Z",
     "shell.execute_reply": "2025-05-12T09:48:05.712543Z"
    },
    "papermill": {
     "duration": 0.020519,
     "end_time": "2025-05-12T09:48:05.715148",
     "exception": false,
     "start_time": "2025-05-12T09:48:05.694629",
     "status": "completed"
    },
    "tags": []
   },
   "outputs": [
    {
     "name": "stdout",
     "output_type": "stream",
     "text": [
      "EC Number of this protein is 3.4.23.15\n"
     ]
    }
   ],
   "source": [
    "# Find special info from data\n",
    "# Find EC number\n",
    "for lines in data:\n",
    "    if \"EC:\" in lines:\n",
    "        res_line = lines\n",
    "        ec_number = res_line.split()[3][ :9]\n",
    "print(f\"EC Number of this protein is {ec_number}\")"
   ]
  },
  {
   "cell_type": "code",
   "execution_count": 22,
   "id": "b0540a5a",
   "metadata": {
    "execution": {
     "iopub.execute_input": "2025-05-12T09:48:05.742425Z",
     "iopub.status.busy": "2025-05-12T09:48:05.742032Z",
     "iopub.status.idle": "2025-05-12T09:48:05.748684Z",
     "shell.execute_reply": "2025-05-12T09:48:05.747647Z"
    },
    "papermill": {
     "duration": 0.021617,
     "end_time": "2025-05-12T09:48:05.750178",
     "exception": false,
     "start_time": "2025-05-12T09:48:05.728561",
     "status": "completed"
    },
    "tags": []
   },
   "outputs": [
    {
     "name": "stdout",
     "output_type": "stream",
     "text": [
      " Source of this protein : HOMO SAPIENS\n"
     ]
    }
   ],
   "source": [
    "# Find special info from data\n",
    "# Find source of protein\n",
    "for lines in data:\n",
    "    if \"ORGANISM_SCIENTIFIC:\" in lines:\n",
    "        res_line = lines\n",
    "        protein_source = res_line.split()[3] + ' ' + res_line.split()[4][:7]\n",
    "print(f\" Source of this protein : {protein_source}\")"
   ]
  },
  {
   "cell_type": "code",
   "execution_count": 23,
   "id": "f4300c63",
   "metadata": {
    "execution": {
     "iopub.execute_input": "2025-05-12T09:48:05.775401Z",
     "iopub.status.busy": "2025-05-12T09:48:05.774979Z",
     "iopub.status.idle": "2025-05-12T09:48:05.782418Z",
     "shell.execute_reply": "2025-05-12T09:48:05.78128Z"
    },
    "papermill": {
     "duration": 0.022006,
     "end_time": "2025-05-12T09:48:05.784058",
     "exception": false,
     "start_time": "2025-05-12T09:48:05.762052",
     "status": "completed"
    },
    "tags": []
   },
   "outputs": [
    {
     "name": "stdout",
     "output_type": "stream",
     "text": [
      "In this file 2 chain exist : O with 326 atoms and chain C with 326 atoms\n"
     ]
    }
   ],
   "source": [
    "# Find special info from data\n",
    "# number of atom in each chains\n",
    "chain_name =list() \n",
    "for lines in data:\n",
    "    if \"TER\" in lines:\n",
    "        chain_name.append(lines)\n",
    "chain_o = chain_name[-2].split()[3]\n",
    "cain_c = chain_name[-3].split()[3]\n",
    "number_of_atoms = chain_name[-2].split()[4]\n",
    "print(f\"In this file 2 chain exist : {chain_o} with {number_of_atoms} atoms and chain {cain_c} with {number_of_atoms} atoms\")"
   ]
  },
  {
   "cell_type": "code",
   "execution_count": 24,
   "id": "892e1be8",
   "metadata": {
    "execution": {
     "iopub.execute_input": "2025-05-12T09:48:05.809736Z",
     "iopub.status.busy": "2025-05-12T09:48:05.809403Z",
     "iopub.status.idle": "2025-05-12T09:48:05.815617Z",
     "shell.execute_reply": "2025-05-12T09:48:05.814442Z"
    },
    "papermill": {
     "duration": 0.020208,
     "end_time": "2025-05-12T09:48:05.817023",
     "exception": false,
     "start_time": "2025-05-12T09:48:05.796815",
     "status": "completed"
    },
    "tags": []
   },
   "outputs": [
    {
     "name": "stdout",
     "output_type": "stream",
     "text": [
      "The ORGANISM TAXID is 9606\n"
     ]
    }
   ],
   "source": [
    "# Find special info from data\n",
    "# organism tax id\n",
    "for lines in data:\n",
    "    if \"ORGANISM_TAXID:\" in lines:\n",
    "        res_line = lines\n",
    "        organism_tax_id = res_line.split()[3][:4]\n",
    "print(f\"The ORGANISM TAXID is {organism_tax_id}\")"
   ]
  },
  {
   "cell_type": "code",
   "execution_count": 25,
   "id": "a1f70273",
   "metadata": {
    "execution": {
     "iopub.execute_input": "2025-05-12T09:48:05.843126Z",
     "iopub.status.busy": "2025-05-12T09:48:05.842838Z",
     "iopub.status.idle": "2025-05-12T09:48:05.849063Z",
     "shell.execute_reply": "2025-05-12T09:48:05.848012Z"
    },
    "papermill": {
     "duration": 0.020009,
     "end_time": "2025-05-12T09:48:05.8506",
     "exception": false,
     "start_time": "2025-05-12T09:48:05.830591",
     "status": "completed"
    },
    "tags": []
   },
   "outputs": [
    {
     "name": "stdout",
     "output_type": "stream",
     "text": [
      "\n",
      " MISSING RESIDUES\n",
      " THE FOLLOWING RESIDUES WERE NOT LOCATED IN THE\n",
      " EXPERIMENT. (M=MODEL NUMBER; RES=RESIDUE NAME; C=CHAIN\n",
      " IDENTIFIER; SSSEQ=SEQUENCE NUMBER; I=INSERTION CODE.)\n",
      "\n",
      "   M RES C SSSEQI\n",
      "     ASN C   160A\n",
      "     GLU O   160\n",
      "     ASN O   160A\n",
      "     SER O   160B\n"
     ]
    }
   ],
   "source": [
    "# Find missing residues in the protein\n",
    "for lines in data:\n",
    "    if \"REMARK 465\" in lines:\n",
    "        print(lines.strip()[10:])\n"
   ]
  },
  {
   "cell_type": "code",
   "execution_count": 26,
   "id": "7dd3daac",
   "metadata": {
    "execution": {
     "iopub.execute_input": "2025-05-12T09:48:05.875503Z",
     "iopub.status.busy": "2025-05-12T09:48:05.875159Z",
     "iopub.status.idle": "2025-05-12T09:48:05.881389Z",
     "shell.execute_reply": "2025-05-12T09:48:05.880368Z"
    },
    "papermill": {
     "duration": 0.020296,
     "end_time": "2025-05-12T09:48:05.882826",
     "exception": false,
     "start_time": "2025-05-12T09:48:05.86253",
     "status": "completed"
    },
    "tags": []
   },
   "outputs": [
    {
     "name": "stdout",
     "output_type": "stream",
     "text": [
      "\n",
      " MISSING ATOM\n",
      " THE FOLLOWING RESIDUES HAVE MISSING ATOMS (M=MODEL NUMBER;\n",
      " RES=RESIDUE NAME; C=CHAIN IDENTIFIER; SSEQ=SEQUENCE NUMBER;\n",
      " I=INSERTION CODE):\n",
      "   M RES CSSEQI  ATOMS\n",
      "     SER C 159    CB   OG\n",
      "     GLU C 160    CA   C    O    CB   CG   CD   OE1\n",
      "     GLU C 160    OE2\n",
      "     SER C 160B   OG\n",
      "     GLN C 160C   CB   CG   CD   OE1  NE2\n",
      "     SER O 159    CA   C    O    CB   OG\n"
     ]
    }
   ],
   "source": [
    "# Find missing atoms in the protein\n",
    "for lines in data:\n",
    "    if \"REMARK 470\" in lines:\n",
    "        print(lines.strip()[10:])"
   ]
  },
  {
   "cell_type": "markdown",
   "id": "44e896fa",
   "metadata": {
    "papermill": {
     "duration": 0.011577,
     "end_time": "2025-05-12T09:48:05.906609",
     "exception": false,
     "start_time": "2025-05-12T09:48:05.895032",
     "status": "completed"
    },
    "tags": []
   },
   "source": [
    "# <p style=\"background-color:black; font-family:calibri; color:#FFC133; font-size:120%; text-align:center; border-radius:30px 30px;\">3_1. Create DataFrame </p>"
   ]
  },
  {
   "cell_type": "code",
   "execution_count": 27,
   "id": "c19581c4",
   "metadata": {
    "execution": {
     "iopub.execute_input": "2025-05-12T09:48:05.931398Z",
     "iopub.status.busy": "2025-05-12T09:48:05.931078Z",
     "iopub.status.idle": "2025-05-12T09:48:05.968385Z",
     "shell.execute_reply": "2025-05-12T09:48:05.967505Z"
    },
    "papermill": {
     "duration": 0.051684,
     "end_time": "2025-05-12T09:48:05.970022",
     "exception": false,
     "start_time": "2025-05-12T09:48:05.918338",
     "status": "completed"
    },
    "tags": []
   },
   "outputs": [
    {
     "data": {
      "text/html": [
       "<div>\n",
       "<style scoped>\n",
       "    .dataframe tbody tr th:only-of-type {\n",
       "        vertical-align: middle;\n",
       "    }\n",
       "\n",
       "    .dataframe tbody tr th {\n",
       "        vertical-align: top;\n",
       "    }\n",
       "\n",
       "    .dataframe thead th {\n",
       "        text-align: right;\n",
       "    }\n",
       "</style>\n",
       "<table border=\"1\" class=\"dataframe\">\n",
       "  <thead>\n",
       "    <tr style=\"text-align: right;\">\n",
       "      <th></th>\n",
       "      <th>Header</th>\n",
       "      <th>Title</th>\n",
       "      <th>Pdb_id</th>\n",
       "      <th>Ligand name 1</th>\n",
       "      <th>Ligand name 2</th>\n",
       "      <th>number of ligands</th>\n",
       "      <th>Chain name 1</th>\n",
       "      <th>Chain name 2</th>\n",
       "      <th>number of chain</th>\n",
       "      <th>resolution</th>\n",
       "      <th>EC Number</th>\n",
       "      <th>Protein Source</th>\n",
       "      <th>Chain atom</th>\n",
       "      <th>Organism Tax Id</th>\n",
       "      <th>MISSING RESIDUES</th>\n",
       "    </tr>\n",
       "  </thead>\n",
       "  <tbody>\n",
       "    <tr>\n",
       "      <th>1</th>\n",
       "      <td>HYDROLASE</td>\n",
       "      <td>CRYSTAL STRUCTURE OF RENIN WITH INHIBITOR 10 (...</td>\n",
       "      <td>pdb2v0z</td>\n",
       "      <td>C41</td>\n",
       "      <td>NAG</td>\n",
       "      <td>2</td>\n",
       "      <td>O</td>\n",
       "      <td>C</td>\n",
       "      <td>2</td>\n",
       "      <td>2.20</td>\n",
       "      <td>3.4.23.15</td>\n",
       "      <td>HOMO SAPIENS</td>\n",
       "      <td>326</td>\n",
       "      <td>9606</td>\n",
       "      <td>Yes</td>\n",
       "    </tr>\n",
       "  </tbody>\n",
       "</table>\n",
       "</div>"
      ],
      "text/plain": [
       "      Header                                              Title   Pdb_id  \\\n",
       "1  HYDROLASE  CRYSTAL STRUCTURE OF RENIN WITH INHIBITOR 10 (...  pdb2v0z   \n",
       "\n",
       "  Ligand name 1 Ligand name 2  number of ligands Chain name 1 Chain name 2  \\\n",
       "1           C41           NAG                  2            O            C   \n",
       "\n",
       "   number of chain resolution  EC Number Protein Source Chain atom  \\\n",
       "1                2       2.20  3.4.23.15   HOMO SAPIENS        326   \n",
       "\n",
       "  Organism Tax Id MISSING RESIDUES  \n",
       "1            9606              Yes  "
      ]
     },
     "execution_count": 27,
     "metadata": {},
     "output_type": "execute_result"
    }
   ],
   "source": [
    "# Create a DataFrame\n",
    "data_file = {\n",
    "   \"Header\" : header.split()[0],\n",
    "    \"Title\" : title,\n",
    "    \"Pdb_id\" : pdb_id,\n",
    "    \"Ligand name 1\"  : ligand_1,\n",
    "    \"Ligand name 2\" : ligand_2,\n",
    "    \"number of ligands\" : 2,\n",
    "    \"Chain name 1\" : chain_o,\n",
    "    \"Chain name 2\" : chain_c,\n",
    "    \"number of chain\" : 2,\n",
    "    \"resolution\" : resolution,\n",
    "    \"EC Number\" : ec_number,\n",
    "    \"Protein Source\" : protein_source,\n",
    "    \"Chain atom\" : number_of_atoms, \n",
    "    \"Organism Tax Id\" : organism_tax_id, \n",
    "    \"MISSING RESIDUES\" : \"Yes\"\n",
    "}\n",
    "df = pd.DataFrame(data_file, index=[1])\n",
    "df"
   ]
  },
  {
   "cell_type": "markdown",
   "id": "61b8041e",
   "metadata": {
    "papermill": {
     "duration": 0.011884,
     "end_time": "2025-05-12T09:48:05.994627",
     "exception": false,
     "start_time": "2025-05-12T09:48:05.982743",
     "status": "completed"
    },
    "tags": []
   },
   "source": [
    "# <p style=\"background-color:black; font-family:calibri; color:#FF00FF; font-size:170%; text-align:center; border-radius:30px 30px;\">4. The Forth Step | Analysis CIF File By Biopython</p>"
   ]
  },
  {
   "cell_type": "code",
   "execution_count": 28,
   "id": "52e4a82c",
   "metadata": {
    "execution": {
     "iopub.execute_input": "2025-05-12T09:48:06.019675Z",
     "iopub.status.busy": "2025-05-12T09:48:06.019366Z",
     "iopub.status.idle": "2025-05-12T09:48:06.232191Z",
     "shell.execute_reply": "2025-05-12T09:48:06.231294Z"
    },
    "papermill": {
     "duration": 0.22738,
     "end_time": "2025-05-12T09:48:06.233836",
     "exception": false,
     "start_time": "2025-05-12T09:48:06.006456",
     "status": "completed"
    },
    "tags": []
   },
   "outputs": [],
   "source": [
    "# Create MMCIF2Dict class for convert cif file to dictionary\n",
    "pdb_information = MMCIF2Dict(path_of_cif_file)\n"
   ]
  },
  {
   "cell_type": "code",
   "execution_count": 29,
   "id": "4a5d5faf",
   "metadata": {
    "execution": {
     "iopub.execute_input": "2025-05-12T09:48:06.263289Z",
     "iopub.status.busy": "2025-05-12T09:48:06.262959Z",
     "iopub.status.idle": "2025-05-12T09:48:06.272094Z",
     "shell.execute_reply": "2025-05-12T09:48:06.270925Z"
    },
    "papermill": {
     "duration": 0.025015,
     "end_time": "2025-05-12T09:48:06.274827",
     "exception": false,
     "start_time": "2025-05-12T09:48:06.249812",
     "status": "completed"
    },
    "tags": []
   },
   "outputs": [
    {
     "name": "stdout",
     "output_type": "stream",
     "text": [
      "data_\n",
      "_entry.id\n",
      "_audit_conform.dict_name\n",
      "_audit_conform.dict_version\n",
      "_audit_conform.dict_location\n",
      "_database_2.database_id\n",
      "_database_2.database_code\n",
      "_database_2.pdbx_database_accession\n",
      "_database_2.pdbx_DOI\n",
      "_pdbx_audit_revision_history.ordinal\n",
      "_pdbx_audit_revision_history.data_content_type\n",
      "_pdbx_audit_revision_history.major_revision\n",
      "_pdbx_audit_revision_history.minor_revision\n",
      "_pdbx_audit_revision_history.revision_date\n",
      "_pdbx_audit_revision_details.ordinal\n",
      "_pdbx_audit_revision_details.revision_ordinal\n",
      "_pdbx_audit_revision_details.data_content_type\n",
      "_pdbx_audit_revision_details.provider\n",
      "_pdbx_audit_revision_details.type\n",
      "_pdbx_audit_revision_details.description\n",
      "_pdbx_audit_revision_details.details\n",
      "_pdbx_audit_revision_group.ordinal\n",
      "_pdbx_audit_revision_group.revision_ordinal\n",
      "_pdbx_audit_revision_group.data_content_type\n",
      "_pdbx_audit_revision_group.group\n",
      "_pdbx_audit_revision_category.ordinal\n",
      "_pdbx_audit_revision_category.revision_ordinal\n",
      "_pdbx_audit_revision_category.data_content_type\n",
      "_pdbx_audit_revision_category.category\n",
      "_pdbx_audit_revision_item.ordinal\n",
      "_pdbx_audit_revision_item.revision_ordinal\n",
      "_pdbx_audit_revision_item.data_content_type\n",
      "_pdbx_audit_revision_item.item\n",
      "_database_PDB_caveat.id\n",
      "_database_PDB_caveat.text\n",
      "_pdbx_database_status.status_code\n",
      "_pdbx_database_status.entry_id\n",
      "_pdbx_database_status.deposit_site\n",
      "_pdbx_database_status.process_site\n",
      "_pdbx_database_status.SG_entry\n",
      "_pdbx_database_status.recvd_initial_deposition_date\n",
      "_pdbx_database_status.pdb_format_compatible\n",
      "_pdbx_database_status.status_code_sf\n",
      "_pdbx_database_status.status_code_mr\n",
      "_pdbx_database_status.status_code_cs\n",
      "_pdbx_database_status.methods_development_category\n",
      "_pdbx_database_status.status_code_nmr_data\n",
      "_pdbx_database_related.db_name\n",
      "_pdbx_database_related.db_id\n",
      "_pdbx_database_related.content_type\n",
      "_pdbx_database_related.details\n",
      "_audit_author.name\n",
      "_audit_author.pdbx_ordinal\n",
      "_audit_author.identifier_ORCID\n",
      "_citation.id\n",
      "_citation.title\n",
      "_citation.journal_abbrev\n",
      "_citation.journal_volume\n",
      "_citation.page_first\n",
      "_citation.page_last\n",
      "_citation.year\n",
      "_citation.journal_id_ASTM\n",
      "_citation.country\n",
      "_citation.journal_id_ISSN\n",
      "_citation.journal_id_CSD\n",
      "_citation.book_publisher\n",
      "_citation.pdbx_database_id_PubMed\n",
      "_citation.pdbx_database_id_DOI\n",
      "_citation_author.citation_id\n",
      "_citation_author.name\n",
      "_citation_author.ordinal\n",
      "_citation_author.identifier_ORCID\n",
      "_entity.id\n",
      "_entity.type\n",
      "_entity.src_method\n",
      "_entity.pdbx_description\n",
      "_entity.formula_weight\n",
      "_entity.pdbx_number_of_molecules\n",
      "_entity.pdbx_ec\n",
      "_entity.pdbx_mutation\n",
      "_entity.pdbx_fragment\n",
      "_entity.details\n",
      "_entity_name_com.entity_id\n",
      "_entity_name_com.name\n",
      "_entity_poly.entity_id\n",
      "_entity_poly.type\n",
      "_entity_poly.nstd_linkage\n",
      "_entity_poly.nstd_monomer\n",
      "_entity_poly.pdbx_seq_one_letter_code\n",
      "_entity_poly.pdbx_seq_one_letter_code_can\n",
      "_entity_poly.pdbx_strand_id\n",
      "_entity_poly.pdbx_target_identifier\n",
      "_pdbx_entity_nonpoly.entity_id\n",
      "_pdbx_entity_nonpoly.name\n",
      "_pdbx_entity_nonpoly.comp_id\n",
      "_entity_poly_seq.entity_id\n",
      "_entity_poly_seq.num\n",
      "_entity_poly_seq.mon_id\n",
      "_entity_poly_seq.hetero\n",
      "_entity_src_gen.entity_id\n",
      "_entity_src_gen.pdbx_src_id\n",
      "_entity_src_gen.pdbx_alt_source_flag\n",
      "_entity_src_gen.pdbx_seq_type\n",
      "_entity_src_gen.pdbx_beg_seq_num\n",
      "_entity_src_gen.pdbx_end_seq_num\n",
      "_entity_src_gen.gene_src_common_name\n",
      "_entity_src_gen.gene_src_genus\n",
      "_entity_src_gen.pdbx_gene_src_gene\n",
      "_entity_src_gen.gene_src_species\n",
      "_entity_src_gen.gene_src_strain\n",
      "_entity_src_gen.gene_src_tissue\n",
      "_entity_src_gen.gene_src_tissue_fraction\n",
      "_entity_src_gen.gene_src_details\n",
      "_entity_src_gen.pdbx_gene_src_fragment\n",
      "_entity_src_gen.pdbx_gene_src_scientific_name\n",
      "_entity_src_gen.pdbx_gene_src_ncbi_taxonomy_id\n",
      "_entity_src_gen.pdbx_gene_src_variant\n",
      "_entity_src_gen.pdbx_gene_src_cell_line\n",
      "_entity_src_gen.pdbx_gene_src_atcc\n",
      "_entity_src_gen.pdbx_gene_src_organ\n",
      "_entity_src_gen.pdbx_gene_src_organelle\n",
      "_entity_src_gen.pdbx_gene_src_cell\n",
      "_entity_src_gen.pdbx_gene_src_cellular_location\n",
      "_entity_src_gen.host_org_common_name\n",
      "_entity_src_gen.pdbx_host_org_scientific_name\n",
      "_entity_src_gen.pdbx_host_org_ncbi_taxonomy_id\n",
      "_entity_src_gen.host_org_genus\n",
      "_entity_src_gen.pdbx_host_org_gene\n",
      "_entity_src_gen.pdbx_host_org_organ\n",
      "_entity_src_gen.host_org_species\n",
      "_entity_src_gen.pdbx_host_org_tissue\n",
      "_entity_src_gen.pdbx_host_org_tissue_fraction\n",
      "_entity_src_gen.pdbx_host_org_strain\n",
      "_entity_src_gen.pdbx_host_org_variant\n",
      "_entity_src_gen.pdbx_host_org_cell_line\n",
      "_entity_src_gen.pdbx_host_org_atcc\n",
      "_entity_src_gen.pdbx_host_org_culture_collection\n",
      "_entity_src_gen.pdbx_host_org_cell\n",
      "_entity_src_gen.pdbx_host_org_organelle\n",
      "_entity_src_gen.pdbx_host_org_cellular_location\n",
      "_entity_src_gen.pdbx_host_org_vector_type\n",
      "_entity_src_gen.pdbx_host_org_vector\n",
      "_entity_src_gen.host_org_details\n",
      "_entity_src_gen.expression_system_id\n",
      "_entity_src_gen.plasmid_name\n",
      "_entity_src_gen.plasmid_details\n",
      "_entity_src_gen.pdbx_description\n",
      "_chem_comp.id\n",
      "_chem_comp.type\n",
      "_chem_comp.mon_nstd_flag\n",
      "_chem_comp.name\n",
      "_chem_comp.pdbx_synonyms\n",
      "_chem_comp.formula\n",
      "_chem_comp.formula_weight\n",
      "_pdbx_chem_comp_identifier.comp_id\n",
      "_pdbx_chem_comp_identifier.type\n",
      "_pdbx_chem_comp_identifier.program\n",
      "_pdbx_chem_comp_identifier.program_version\n",
      "_pdbx_chem_comp_identifier.identifier\n",
      "_pdbx_poly_seq_scheme.asym_id\n",
      "_pdbx_poly_seq_scheme.entity_id\n",
      "_pdbx_poly_seq_scheme.seq_id\n",
      "_pdbx_poly_seq_scheme.mon_id\n",
      "_pdbx_poly_seq_scheme.ndb_seq_num\n",
      "_pdbx_poly_seq_scheme.pdb_seq_num\n",
      "_pdbx_poly_seq_scheme.auth_seq_num\n",
      "_pdbx_poly_seq_scheme.pdb_mon_id\n",
      "_pdbx_poly_seq_scheme.auth_mon_id\n",
      "_pdbx_poly_seq_scheme.pdb_strand_id\n",
      "_pdbx_poly_seq_scheme.pdb_ins_code\n",
      "_pdbx_poly_seq_scheme.hetero\n",
      "_pdbx_nonpoly_scheme.asym_id\n",
      "_pdbx_nonpoly_scheme.entity_id\n",
      "_pdbx_nonpoly_scheme.mon_id\n",
      "_pdbx_nonpoly_scheme.ndb_seq_num\n",
      "_pdbx_nonpoly_scheme.pdb_seq_num\n",
      "_pdbx_nonpoly_scheme.auth_seq_num\n",
      "_pdbx_nonpoly_scheme.pdb_mon_id\n",
      "_pdbx_nonpoly_scheme.auth_mon_id\n",
      "_pdbx_nonpoly_scheme.pdb_strand_id\n",
      "_pdbx_nonpoly_scheme.pdb_ins_code\n",
      "_pdbx_unobs_or_zero_occ_atoms.id\n",
      "_pdbx_unobs_or_zero_occ_atoms.PDB_model_num\n",
      "_pdbx_unobs_or_zero_occ_atoms.polymer_flag\n",
      "_pdbx_unobs_or_zero_occ_atoms.occupancy_flag\n",
      "_pdbx_unobs_or_zero_occ_atoms.auth_asym_id\n",
      "_pdbx_unobs_or_zero_occ_atoms.auth_comp_id\n",
      "_pdbx_unobs_or_zero_occ_atoms.auth_seq_id\n",
      "_pdbx_unobs_or_zero_occ_atoms.PDB_ins_code\n",
      "_pdbx_unobs_or_zero_occ_atoms.auth_atom_id\n",
      "_pdbx_unobs_or_zero_occ_atoms.label_alt_id\n",
      "_pdbx_unobs_or_zero_occ_atoms.label_asym_id\n",
      "_pdbx_unobs_or_zero_occ_atoms.label_comp_id\n",
      "_pdbx_unobs_or_zero_occ_atoms.label_seq_id\n",
      "_pdbx_unobs_or_zero_occ_atoms.label_atom_id\n",
      "_software.name\n",
      "_software.classification\n",
      "_software.version\n",
      "_software.citation_id\n",
      "_software.pdbx_ordinal\n",
      "_software.date\n",
      "_software.type\n",
      "_software.location\n",
      "_software.language\n",
      "_cell.entry_id\n",
      "_cell.length_a\n",
      "_cell.length_b\n",
      "_cell.length_c\n",
      "_cell.angle_alpha\n",
      "_cell.angle_beta\n",
      "_cell.angle_gamma\n",
      "_cell.Z_PDB\n",
      "_cell.pdbx_unique_axis\n",
      "_symmetry.entry_id\n",
      "_symmetry.space_group_name_H-M\n",
      "_symmetry.pdbx_full_space_group_name_H-M\n",
      "_symmetry.cell_setting\n",
      "_symmetry.Int_Tables_number\n",
      "_exptl.entry_id\n",
      "_exptl.method\n",
      "_exptl.crystals_number\n",
      "_exptl_crystal.id\n",
      "_exptl_crystal.density_meas\n",
      "_exptl_crystal.density_Matthews\n",
      "_exptl_crystal.density_percent_sol\n",
      "_exptl_crystal.description\n",
      "_exptl_crystal.preparation\n",
      "_exptl_crystal_grow.crystal_id\n",
      "_exptl_crystal_grow.method\n",
      "_exptl_crystal_grow.temp\n",
      "_exptl_crystal_grow.temp_details\n",
      "_exptl_crystal_grow.pH\n",
      "_exptl_crystal_grow.pdbx_pH_range\n",
      "_exptl_crystal_grow.pdbx_details\n",
      "_diffrn.id\n",
      "_diffrn.ambient_temp\n",
      "_diffrn.ambient_temp_details\n",
      "_diffrn.crystal_id\n",
      "_diffrn_detector.diffrn_id\n",
      "_diffrn_detector.detector\n",
      "_diffrn_detector.type\n",
      "_diffrn_detector.pdbx_collection_date\n",
      "_diffrn_detector.details\n",
      "_diffrn_radiation.diffrn_id\n",
      "_diffrn_radiation.wavelength_id\n",
      "_diffrn_radiation.pdbx_monochromatic_or_laue_m_l\n",
      "_diffrn_radiation.monochromator\n",
      "_diffrn_radiation.pdbx_diffrn_protocol\n",
      "_diffrn_radiation.pdbx_scattering_type\n",
      "_diffrn_radiation_wavelength.id\n",
      "_diffrn_radiation_wavelength.wavelength\n",
      "_diffrn_radiation_wavelength.wt\n",
      "_diffrn_source.diffrn_id\n",
      "_diffrn_source.source\n",
      "_diffrn_source.type\n",
      "_diffrn_source.pdbx_synchrotron_site\n",
      "_diffrn_source.pdbx_synchrotron_beamline\n",
      "_diffrn_source.pdbx_wavelength\n",
      "_diffrn_source.pdbx_wavelength_list\n",
      "_reflns.pdbx_diffrn_id\n",
      "_reflns.pdbx_ordinal\n",
      "_reflns.entry_id\n",
      "_reflns.observed_criterion_sigma_I\n",
      "_reflns.observed_criterion_sigma_F\n",
      "_reflns.d_resolution_low\n",
      "_reflns.d_resolution_high\n",
      "_reflns.number_obs\n",
      "_reflns.number_all\n",
      "_reflns.percent_possible_obs\n",
      "_reflns.pdbx_Rmerge_I_obs\n",
      "_reflns.pdbx_Rsym_value\n",
      "_reflns.pdbx_netI_over_sigmaI\n",
      "_reflns.B_iso_Wilson_estimate\n",
      "_reflns.pdbx_redundancy\n",
      "_reflns.pdbx_CC_half\n",
      "_reflns.pdbx_Rpim_I_all\n",
      "_reflns.pdbx_Rrim_I_all\n",
      "_refine.pdbx_refine_id\n",
      "_refine.entry_id\n",
      "_refine.pdbx_diffrn_id\n",
      "_refine.pdbx_TLS_residual_ADP_flag\n",
      "_refine.ls_number_reflns_obs\n",
      "_refine.ls_number_reflns_all\n",
      "_refine.pdbx_ls_sigma_I\n",
      "_refine.pdbx_ls_sigma_F\n",
      "_refine.pdbx_data_cutoff_high_absF\n",
      "_refine.pdbx_data_cutoff_low_absF\n",
      "_refine.pdbx_data_cutoff_high_rms_absF\n",
      "_refine.ls_d_res_low\n",
      "_refine.ls_d_res_high\n",
      "_refine.ls_percent_reflns_obs\n",
      "_refine.ls_R_factor_obs\n",
      "_refine.ls_R_factor_all\n",
      "_refine.ls_R_factor_R_work\n",
      "_refine.ls_R_factor_R_free\n",
      "_refine.ls_R_factor_R_free_error\n",
      "_refine.ls_R_factor_R_free_error_details\n",
      "_refine.ls_percent_reflns_R_free\n",
      "_refine.ls_number_reflns_R_free\n",
      "_refine.ls_number_parameters\n",
      "_refine.ls_number_restraints\n",
      "_refine.occupancy_min\n",
      "_refine.occupancy_max\n",
      "_refine.correlation_coeff_Fo_to_Fc\n",
      "_refine.correlation_coeff_Fo_to_Fc_free\n",
      "_refine.B_iso_mean\n",
      "_refine.aniso_B[1][1]\n",
      "_refine.aniso_B[2][2]\n",
      "_refine.aniso_B[3][3]\n",
      "_refine.aniso_B[1][2]\n",
      "_refine.aniso_B[1][3]\n",
      "_refine.aniso_B[2][3]\n",
      "_refine.solvent_model_details\n",
      "_refine.solvent_model_param_ksol\n",
      "_refine.solvent_model_param_bsol\n",
      "_refine.pdbx_solvent_vdw_probe_radii\n",
      "_refine.pdbx_solvent_ion_probe_radii\n",
      "_refine.pdbx_solvent_shrinkage_radii\n",
      "_refine.pdbx_ls_cross_valid_method\n",
      "_refine.details\n",
      "_refine.pdbx_starting_model\n",
      "_refine.pdbx_method_to_determine_struct\n",
      "_refine.pdbx_isotropic_thermal_model\n",
      "_refine.pdbx_stereochemistry_target_values\n",
      "_refine.pdbx_stereochem_target_val_spec_case\n",
      "_refine.pdbx_R_Free_selection_details\n",
      "_refine.pdbx_overall_ESU_R\n",
      "_refine.pdbx_overall_ESU_R_Free\n",
      "_refine.overall_SU_ML\n",
      "_refine.pdbx_overall_phase_error\n",
      "_refine.overall_SU_B\n",
      "_refine.overall_SU_R_Cruickshank_DPI\n",
      "_refine.pdbx_overall_SU_R_free_Cruickshank_DPI\n",
      "_refine.pdbx_overall_SU_R_Blow_DPI\n",
      "_refine.pdbx_overall_SU_R_free_Blow_DPI\n",
      "_refine_hist.pdbx_refine_id\n",
      "_refine_hist.cycle_id\n",
      "_refine_hist.pdbx_number_atoms_protein\n",
      "_refine_hist.pdbx_number_atoms_nucleic_acid\n",
      "_refine_hist.pdbx_number_atoms_ligand\n",
      "_refine_hist.number_atoms_solvent\n",
      "_refine_hist.number_atoms_total\n",
      "_refine_hist.d_res_high\n",
      "_refine_hist.d_res_low\n",
      "_refine_ls_restr.type\n",
      "_refine_ls_restr.dev_ideal\n",
      "_refine_ls_restr.dev_ideal_target\n",
      "_refine_ls_restr.weight\n",
      "_refine_ls_restr.number\n",
      "_refine_ls_restr.pdbx_refine_id\n",
      "_refine_ls_restr.pdbx_restraint_function\n",
      "_database_PDB_matrix.entry_id\n",
      "_database_PDB_matrix.origx[1][1]\n",
      "_database_PDB_matrix.origx[1][2]\n",
      "_database_PDB_matrix.origx[1][3]\n",
      "_database_PDB_matrix.origx[2][1]\n",
      "_database_PDB_matrix.origx[2][2]\n",
      "_database_PDB_matrix.origx[2][3]\n",
      "_database_PDB_matrix.origx[3][1]\n",
      "_database_PDB_matrix.origx[3][2]\n",
      "_database_PDB_matrix.origx[3][3]\n",
      "_database_PDB_matrix.origx_vector[1]\n",
      "_database_PDB_matrix.origx_vector[2]\n",
      "_database_PDB_matrix.origx_vector[3]\n",
      "_struct.entry_id\n",
      "_struct.title\n",
      "_struct.pdbx_model_details\n",
      "_struct.pdbx_CASP_flag\n",
      "_struct.pdbx_model_type_details\n",
      "_struct_keywords.entry_id\n",
      "_struct_keywords.pdbx_keywords\n",
      "_struct_keywords.text\n",
      "_struct_asym.id\n",
      "_struct_asym.pdbx_blank_PDB_chainid_flag\n",
      "_struct_asym.pdbx_modified\n",
      "_struct_asym.entity_id\n",
      "_struct_asym.details\n",
      "_struct_ref.id\n",
      "_struct_ref.db_name\n",
      "_struct_ref.db_code\n",
      "_struct_ref.entity_id\n",
      "_struct_ref.pdbx_seq_one_letter_code\n",
      "_struct_ref.pdbx_align_begin\n",
      "_struct_ref.pdbx_db_accession\n",
      "_struct_ref.pdbx_db_isoform\n",
      "_struct_ref_seq.align_id\n",
      "_struct_ref_seq.ref_id\n",
      "_struct_ref_seq.pdbx_PDB_id_code\n",
      "_struct_ref_seq.pdbx_strand_id\n",
      "_struct_ref_seq.seq_align_beg\n",
      "_struct_ref_seq.pdbx_seq_align_beg_ins_code\n",
      "_struct_ref_seq.seq_align_end\n",
      "_struct_ref_seq.pdbx_seq_align_end_ins_code\n",
      "_struct_ref_seq.pdbx_db_accession\n",
      "_struct_ref_seq.db_align_beg\n",
      "_struct_ref_seq.pdbx_db_align_beg_ins_code\n",
      "_struct_ref_seq.db_align_end\n",
      "_struct_ref_seq.pdbx_db_align_end_ins_code\n",
      "_struct_ref_seq.pdbx_auth_seq_align_beg\n",
      "_struct_ref_seq.pdbx_auth_seq_align_end\n",
      "_pdbx_struct_assembly.id\n",
      "_pdbx_struct_assembly.details\n",
      "_pdbx_struct_assembly.method_details\n",
      "_pdbx_struct_assembly.oligomeric_details\n",
      "_pdbx_struct_assembly.oligomeric_count\n",
      "_pdbx_struct_assembly_gen.assembly_id\n",
      "_pdbx_struct_assembly_gen.oper_expression\n",
      "_pdbx_struct_assembly_gen.asym_id_list\n",
      "_pdbx_struct_oper_list.id\n",
      "_pdbx_struct_oper_list.type\n",
      "_pdbx_struct_oper_list.name\n",
      "_pdbx_struct_oper_list.symmetry_operation\n",
      "_pdbx_struct_oper_list.matrix[1][1]\n",
      "_pdbx_struct_oper_list.matrix[1][2]\n",
      "_pdbx_struct_oper_list.matrix[1][3]\n",
      "_pdbx_struct_oper_list.vector[1]\n",
      "_pdbx_struct_oper_list.matrix[2][1]\n",
      "_pdbx_struct_oper_list.matrix[2][2]\n",
      "_pdbx_struct_oper_list.matrix[2][3]\n",
      "_pdbx_struct_oper_list.vector[2]\n",
      "_pdbx_struct_oper_list.matrix[3][1]\n",
      "_pdbx_struct_oper_list.matrix[3][2]\n",
      "_pdbx_struct_oper_list.matrix[3][3]\n",
      "_pdbx_struct_oper_list.vector[3]\n",
      "_struct_conf.conf_type_id\n",
      "_struct_conf.id\n",
      "_struct_conf.pdbx_PDB_helix_id\n",
      "_struct_conf.beg_label_comp_id\n",
      "_struct_conf.beg_label_asym_id\n",
      "_struct_conf.beg_label_seq_id\n",
      "_struct_conf.pdbx_beg_PDB_ins_code\n",
      "_struct_conf.end_label_comp_id\n",
      "_struct_conf.end_label_asym_id\n",
      "_struct_conf.end_label_seq_id\n",
      "_struct_conf.pdbx_end_PDB_ins_code\n",
      "_struct_conf.beg_auth_comp_id\n",
      "_struct_conf.beg_auth_asym_id\n",
      "_struct_conf.beg_auth_seq_id\n",
      "_struct_conf.end_auth_comp_id\n",
      "_struct_conf.end_auth_asym_id\n",
      "_struct_conf.end_auth_seq_id\n",
      "_struct_conf.pdbx_PDB_helix_class\n",
      "_struct_conf.details\n",
      "_struct_conf.pdbx_PDB_helix_length\n",
      "_struct_conf_type.id\n",
      "_struct_conf_type.criteria\n",
      "_struct_conf_type.reference\n",
      "_struct_conn.id\n",
      "_struct_conn.conn_type_id\n",
      "_struct_conn.pdbx_leaving_atom_flag\n",
      "_struct_conn.pdbx_PDB_id\n",
      "_struct_conn.ptnr1_label_asym_id\n",
      "_struct_conn.ptnr1_label_comp_id\n",
      "_struct_conn.ptnr1_label_seq_id\n",
      "_struct_conn.ptnr1_label_atom_id\n",
      "_struct_conn.pdbx_ptnr1_label_alt_id\n",
      "_struct_conn.pdbx_ptnr1_PDB_ins_code\n",
      "_struct_conn.pdbx_ptnr1_standard_comp_id\n",
      "_struct_conn.ptnr1_symmetry\n",
      "_struct_conn.ptnr2_label_asym_id\n",
      "_struct_conn.ptnr2_label_comp_id\n",
      "_struct_conn.ptnr2_label_seq_id\n",
      "_struct_conn.ptnr2_label_atom_id\n",
      "_struct_conn.pdbx_ptnr2_label_alt_id\n",
      "_struct_conn.pdbx_ptnr2_PDB_ins_code\n",
      "_struct_conn.ptnr1_auth_asym_id\n",
      "_struct_conn.ptnr1_auth_comp_id\n",
      "_struct_conn.ptnr1_auth_seq_id\n",
      "_struct_conn.ptnr2_auth_asym_id\n",
      "_struct_conn.ptnr2_auth_comp_id\n",
      "_struct_conn.ptnr2_auth_seq_id\n",
      "_struct_conn.ptnr2_symmetry\n",
      "_struct_conn.pdbx_ptnr3_label_atom_id\n",
      "_struct_conn.pdbx_ptnr3_label_seq_id\n",
      "_struct_conn.pdbx_ptnr3_label_comp_id\n",
      "_struct_conn.pdbx_ptnr3_label_asym_id\n",
      "_struct_conn.pdbx_ptnr3_label_alt_id\n",
      "_struct_conn.pdbx_ptnr3_PDB_ins_code\n",
      "_struct_conn.details\n",
      "_struct_conn.pdbx_dist_value\n",
      "_struct_conn.pdbx_value_order\n",
      "_struct_conn.pdbx_role\n",
      "_struct_conn_type.id\n",
      "_struct_conn_type.criteria\n",
      "_struct_conn_type.reference\n",
      "_pdbx_modification_feature.ordinal\n",
      "_pdbx_modification_feature.label_comp_id\n",
      "_pdbx_modification_feature.label_asym_id\n",
      "_pdbx_modification_feature.label_seq_id\n",
      "_pdbx_modification_feature.label_alt_id\n",
      "_pdbx_modification_feature.modified_residue_label_comp_id\n",
      "_pdbx_modification_feature.modified_residue_label_asym_id\n",
      "_pdbx_modification_feature.modified_residue_label_seq_id\n",
      "_pdbx_modification_feature.modified_residue_label_alt_id\n",
      "_pdbx_modification_feature.auth_comp_id\n",
      "_pdbx_modification_feature.auth_asym_id\n",
      "_pdbx_modification_feature.auth_seq_id\n",
      "_pdbx_modification_feature.PDB_ins_code\n",
      "_pdbx_modification_feature.symmetry\n",
      "_pdbx_modification_feature.modified_residue_auth_comp_id\n",
      "_pdbx_modification_feature.modified_residue_auth_asym_id\n",
      "_pdbx_modification_feature.modified_residue_auth_seq_id\n",
      "_pdbx_modification_feature.modified_residue_PDB_ins_code\n",
      "_pdbx_modification_feature.modified_residue_symmetry\n",
      "_pdbx_modification_feature.comp_id_linking_atom\n",
      "_pdbx_modification_feature.modified_residue_id_linking_atom\n",
      "_pdbx_modification_feature.modified_residue_id\n",
      "_pdbx_modification_feature.ref_pcm_id\n",
      "_pdbx_modification_feature.ref_comp_id\n",
      "_pdbx_modification_feature.type\n",
      "_pdbx_modification_feature.category\n",
      "_struct_mon_prot_cis.pdbx_id\n",
      "_struct_mon_prot_cis.label_comp_id\n",
      "_struct_mon_prot_cis.label_seq_id\n",
      "_struct_mon_prot_cis.label_asym_id\n",
      "_struct_mon_prot_cis.label_alt_id\n",
      "_struct_mon_prot_cis.pdbx_PDB_ins_code\n",
      "_struct_mon_prot_cis.auth_comp_id\n",
      "_struct_mon_prot_cis.auth_seq_id\n",
      "_struct_mon_prot_cis.auth_asym_id\n",
      "_struct_mon_prot_cis.pdbx_label_comp_id_2\n",
      "_struct_mon_prot_cis.pdbx_label_seq_id_2\n",
      "_struct_mon_prot_cis.pdbx_label_asym_id_2\n",
      "_struct_mon_prot_cis.pdbx_PDB_ins_code_2\n",
      "_struct_mon_prot_cis.pdbx_auth_comp_id_2\n",
      "_struct_mon_prot_cis.pdbx_auth_seq_id_2\n",
      "_struct_mon_prot_cis.pdbx_auth_asym_id_2\n",
      "_struct_mon_prot_cis.pdbx_PDB_model_num\n",
      "_struct_mon_prot_cis.pdbx_omega_angle\n",
      "_struct_sheet.id\n",
      "_struct_sheet.type\n",
      "_struct_sheet.number_strands\n",
      "_struct_sheet.details\n",
      "_struct_sheet_order.sheet_id\n",
      "_struct_sheet_order.range_id_1\n",
      "_struct_sheet_order.range_id_2\n",
      "_struct_sheet_order.offset\n",
      "_struct_sheet_order.sense\n",
      "_struct_sheet_range.sheet_id\n",
      "_struct_sheet_range.id\n",
      "_struct_sheet_range.beg_label_comp_id\n",
      "_struct_sheet_range.beg_label_asym_id\n",
      "_struct_sheet_range.beg_label_seq_id\n",
      "_struct_sheet_range.pdbx_beg_PDB_ins_code\n",
      "_struct_sheet_range.end_label_comp_id\n",
      "_struct_sheet_range.end_label_asym_id\n",
      "_struct_sheet_range.end_label_seq_id\n",
      "_struct_sheet_range.pdbx_end_PDB_ins_code\n",
      "_struct_sheet_range.beg_auth_comp_id\n",
      "_struct_sheet_range.beg_auth_asym_id\n",
      "_struct_sheet_range.beg_auth_seq_id\n",
      "_struct_sheet_range.end_auth_comp_id\n",
      "_struct_sheet_range.end_auth_asym_id\n",
      "_struct_sheet_range.end_auth_seq_id\n",
      "_pdbx_struct_sheet_hbond.sheet_id\n",
      "_pdbx_struct_sheet_hbond.range_id_1\n",
      "_pdbx_struct_sheet_hbond.range_id_2\n",
      "_pdbx_struct_sheet_hbond.range_1_label_atom_id\n",
      "_pdbx_struct_sheet_hbond.range_1_label_comp_id\n",
      "_pdbx_struct_sheet_hbond.range_1_label_asym_id\n",
      "_pdbx_struct_sheet_hbond.range_1_label_seq_id\n",
      "_pdbx_struct_sheet_hbond.range_1_PDB_ins_code\n",
      "_pdbx_struct_sheet_hbond.range_1_auth_atom_id\n",
      "_pdbx_struct_sheet_hbond.range_1_auth_comp_id\n",
      "_pdbx_struct_sheet_hbond.range_1_auth_asym_id\n",
      "_pdbx_struct_sheet_hbond.range_1_auth_seq_id\n",
      "_pdbx_struct_sheet_hbond.range_2_label_atom_id\n",
      "_pdbx_struct_sheet_hbond.range_2_label_comp_id\n",
      "_pdbx_struct_sheet_hbond.range_2_label_asym_id\n",
      "_pdbx_struct_sheet_hbond.range_2_label_seq_id\n",
      "_pdbx_struct_sheet_hbond.range_2_PDB_ins_code\n",
      "_pdbx_struct_sheet_hbond.range_2_auth_atom_id\n",
      "_pdbx_struct_sheet_hbond.range_2_auth_comp_id\n",
      "_pdbx_struct_sheet_hbond.range_2_auth_asym_id\n",
      "_pdbx_struct_sheet_hbond.range_2_auth_seq_id\n",
      "_pdbx_entry_details.entry_id\n",
      "_pdbx_entry_details.compound_details\n",
      "_pdbx_entry_details.source_details\n",
      "_pdbx_entry_details.nonpolymer_details\n",
      "_pdbx_entry_details.sequence_details\n",
      "_pdbx_entry_details.has_ligand_of_interest\n",
      "_pdbx_entry_details.has_protein_modification\n",
      "_pdbx_validate_close_contact.id\n",
      "_pdbx_validate_close_contact.PDB_model_num\n",
      "_pdbx_validate_close_contact.auth_atom_id_1\n",
      "_pdbx_validate_close_contact.auth_asym_id_1\n",
      "_pdbx_validate_close_contact.auth_comp_id_1\n",
      "_pdbx_validate_close_contact.auth_seq_id_1\n",
      "_pdbx_validate_close_contact.PDB_ins_code_1\n",
      "_pdbx_validate_close_contact.label_alt_id_1\n",
      "_pdbx_validate_close_contact.auth_atom_id_2\n",
      "_pdbx_validate_close_contact.auth_asym_id_2\n",
      "_pdbx_validate_close_contact.auth_comp_id_2\n",
      "_pdbx_validate_close_contact.auth_seq_id_2\n",
      "_pdbx_validate_close_contact.PDB_ins_code_2\n",
      "_pdbx_validate_close_contact.label_alt_id_2\n",
      "_pdbx_validate_close_contact.dist\n",
      "_pdbx_validate_torsion.id\n",
      "_pdbx_validate_torsion.PDB_model_num\n",
      "_pdbx_validate_torsion.auth_comp_id\n",
      "_pdbx_validate_torsion.auth_asym_id\n",
      "_pdbx_validate_torsion.auth_seq_id\n",
      "_pdbx_validate_torsion.PDB_ins_code\n",
      "_pdbx_validate_torsion.label_alt_id\n",
      "_pdbx_validate_torsion.phi\n",
      "_pdbx_validate_torsion.psi\n",
      "_pdbx_validate_chiral.id\n",
      "_pdbx_validate_chiral.PDB_model_num\n",
      "_pdbx_validate_chiral.auth_atom_id\n",
      "_pdbx_validate_chiral.label_alt_id\n",
      "_pdbx_validate_chiral.auth_asym_id\n",
      "_pdbx_validate_chiral.auth_comp_id\n",
      "_pdbx_validate_chiral.auth_seq_id\n",
      "_pdbx_validate_chiral.PDB_ins_code\n",
      "_pdbx_validate_chiral.details\n",
      "_pdbx_validate_chiral.omega\n",
      "_pdbx_validate_planes.id\n",
      "_pdbx_validate_planes.PDB_model_num\n",
      "_pdbx_validate_planes.auth_comp_id\n",
      "_pdbx_validate_planes.auth_asym_id\n",
      "_pdbx_validate_planes.auth_seq_id\n",
      "_pdbx_validate_planes.PDB_ins_code\n",
      "_pdbx_validate_planes.label_alt_id\n",
      "_pdbx_validate_planes.rmsd\n",
      "_pdbx_validate_planes.type\n",
      "_pdbx_validate_polymer_linkage.id\n",
      "_pdbx_validate_polymer_linkage.PDB_model_num\n",
      "_pdbx_validate_polymer_linkage.auth_atom_id_1\n",
      "_pdbx_validate_polymer_linkage.auth_asym_id_1\n",
      "_pdbx_validate_polymer_linkage.auth_comp_id_1\n",
      "_pdbx_validate_polymer_linkage.auth_seq_id_1\n",
      "_pdbx_validate_polymer_linkage.PDB_ins_code_1\n",
      "_pdbx_validate_polymer_linkage.label_alt_id_1\n",
      "_pdbx_validate_polymer_linkage.auth_atom_id_2\n",
      "_pdbx_validate_polymer_linkage.auth_asym_id_2\n",
      "_pdbx_validate_polymer_linkage.auth_comp_id_2\n",
      "_pdbx_validate_polymer_linkage.auth_seq_id_2\n",
      "_pdbx_validate_polymer_linkage.PDB_ins_code_2\n",
      "_pdbx_validate_polymer_linkage.label_alt_id_2\n",
      "_pdbx_validate_polymer_linkage.dist\n",
      "_pdbx_struct_mod_residue.id\n",
      "_pdbx_struct_mod_residue.label_asym_id\n",
      "_pdbx_struct_mod_residue.label_comp_id\n",
      "_pdbx_struct_mod_residue.label_seq_id\n",
      "_pdbx_struct_mod_residue.auth_asym_id\n",
      "_pdbx_struct_mod_residue.auth_comp_id\n",
      "_pdbx_struct_mod_residue.auth_seq_id\n",
      "_pdbx_struct_mod_residue.PDB_ins_code\n",
      "_pdbx_struct_mod_residue.parent_comp_id\n",
      "_pdbx_struct_mod_residue.details\n",
      "_pdbx_database_remark.id\n",
      "_pdbx_database_remark.text\n",
      "_pdbx_distant_solvent_atoms.id\n",
      "_pdbx_distant_solvent_atoms.PDB_model_num\n",
      "_pdbx_distant_solvent_atoms.auth_atom_id\n",
      "_pdbx_distant_solvent_atoms.label_alt_id\n",
      "_pdbx_distant_solvent_atoms.auth_asym_id\n",
      "_pdbx_distant_solvent_atoms.auth_comp_id\n",
      "_pdbx_distant_solvent_atoms.auth_seq_id\n",
      "_pdbx_distant_solvent_atoms.PDB_ins_code\n",
      "_pdbx_distant_solvent_atoms.neighbor_macromolecule_distance\n",
      "_pdbx_distant_solvent_atoms.neighbor_ligand_distance\n",
      "_pdbx_unobs_or_zero_occ_residues.id\n",
      "_pdbx_unobs_or_zero_occ_residues.PDB_model_num\n",
      "_pdbx_unobs_or_zero_occ_residues.polymer_flag\n",
      "_pdbx_unobs_or_zero_occ_residues.occupancy_flag\n",
      "_pdbx_unobs_or_zero_occ_residues.auth_asym_id\n",
      "_pdbx_unobs_or_zero_occ_residues.auth_comp_id\n",
      "_pdbx_unobs_or_zero_occ_residues.auth_seq_id\n",
      "_pdbx_unobs_or_zero_occ_residues.PDB_ins_code\n",
      "_pdbx_unobs_or_zero_occ_residues.label_asym_id\n",
      "_pdbx_unobs_or_zero_occ_residues.label_comp_id\n",
      "_pdbx_unobs_or_zero_occ_residues.label_seq_id\n",
      "_chem_comp_atom.comp_id\n",
      "_chem_comp_atom.atom_id\n",
      "_chem_comp_atom.type_symbol\n",
      "_chem_comp_atom.pdbx_aromatic_flag\n",
      "_chem_comp_atom.pdbx_stereo_config\n",
      "_chem_comp_atom.pdbx_ordinal\n",
      "_chem_comp_bond.comp_id\n",
      "_chem_comp_bond.atom_id_1\n",
      "_chem_comp_bond.atom_id_2\n",
      "_chem_comp_bond.value_order\n",
      "_chem_comp_bond.pdbx_aromatic_flag\n",
      "_chem_comp_bond.pdbx_stereo_config\n",
      "_chem_comp_bond.pdbx_ordinal\n",
      "_atom_sites.entry_id\n",
      "_atom_sites.fract_transf_matrix[1][1]\n",
      "_atom_sites.fract_transf_matrix[1][2]\n",
      "_atom_sites.fract_transf_matrix[1][3]\n",
      "_atom_sites.fract_transf_matrix[2][1]\n",
      "_atom_sites.fract_transf_matrix[2][2]\n",
      "_atom_sites.fract_transf_matrix[2][3]\n",
      "_atom_sites.fract_transf_matrix[3][1]\n",
      "_atom_sites.fract_transf_matrix[3][2]\n",
      "_atom_sites.fract_transf_matrix[3][3]\n",
      "_atom_sites.fract_transf_vector[1]\n",
      "_atom_sites.fract_transf_vector[2]\n",
      "_atom_sites.fract_transf_vector[3]\n",
      "_atom_type.symbol\n",
      "_atom_site.group_PDB\n",
      "_atom_site.id\n",
      "_atom_site.type_symbol\n",
      "_atom_site.label_atom_id\n",
      "_atom_site.label_alt_id\n",
      "_atom_site.label_comp_id\n",
      "_atom_site.label_asym_id\n",
      "_atom_site.label_entity_id\n",
      "_atom_site.label_seq_id\n",
      "_atom_site.pdbx_PDB_ins_code\n",
      "_atom_site.Cartn_x\n",
      "_atom_site.Cartn_y\n",
      "_atom_site.Cartn_z\n",
      "_atom_site.occupancy\n",
      "_atom_site.B_iso_or_equiv\n",
      "_atom_site.pdbx_formal_charge\n",
      "_atom_site.auth_seq_id\n",
      "_atom_site.auth_comp_id\n",
      "_atom_site.auth_asym_id\n",
      "_atom_site.auth_atom_id\n",
      "_atom_site.pdbx_PDB_model_num\n"
     ]
    }
   ],
   "source": [
    "# Show keyes from dict file\n",
    "for key in pdb_information.keys():\n",
    "    print(key)"
   ]
  },
  {
   "cell_type": "code",
   "execution_count": 30,
   "id": "7c6a67b6",
   "metadata": {
    "execution": {
     "iopub.execute_input": "2025-05-12T09:48:06.303932Z",
     "iopub.status.busy": "2025-05-12T09:48:06.303615Z",
     "iopub.status.idle": "2025-05-12T09:48:06.30878Z",
     "shell.execute_reply": "2025-05-12T09:48:06.307781Z"
    },
    "papermill": {
     "duration": 0.020295,
     "end_time": "2025-05-12T09:48:06.310204",
     "exception": false,
     "start_time": "2025-05-12T09:48:06.289909",
     "status": "completed"
    },
    "tags": []
   },
   "outputs": [
    {
     "name": "stdout",
     "output_type": "stream",
     "text": [
      "['2V0Z']\n"
     ]
    }
   ],
   "source": [
    "# Show entry id\n",
    "print(pdb_information[\"_entry.id\"])"
   ]
  },
  {
   "cell_type": "code",
   "execution_count": 31,
   "id": "f65cb335",
   "metadata": {
    "execution": {
     "iopub.execute_input": "2025-05-12T09:48:06.337338Z",
     "iopub.status.busy": "2025-05-12T09:48:06.336999Z",
     "iopub.status.idle": "2025-05-12T09:48:06.346025Z",
     "shell.execute_reply": "2025-05-12T09:48:06.344874Z"
    },
    "papermill": {
     "duration": 0.024435,
     "end_time": "2025-05-12T09:48:06.347632",
     "exception": false,
     "start_time": "2025-05-12T09:48:06.323197",
     "status": "completed"
    },
    "tags": []
   },
   "outputs": [
    {
     "name": "stdout",
     "output_type": "stream",
     "text": [
      "_cell.entry_id: ['2V0Z']\n",
      "_cell.length_a: ['141.600']\n",
      "_cell.length_b: ['141.600']\n",
      "_cell.length_c: ['141.600']\n",
      "_cell.angle_alpha: ['90.00']\n",
      "_cell.angle_beta: ['90.00']\n",
      "_cell.angle_gamma: ['90.00']\n",
      "_cell.Z_PDB: ['24']\n"
     ]
    }
   ],
   "source": [
    "# Show information for specific keyword.\n",
    "for key, value in pdb_information.items(): # Get info\n",
    "    if \"?\" not in value: # Remove empty values\n",
    "        if \"_cell.\" in key: # Get data with keyword\n",
    "            print(f\"{key}: {value}\") # Print"
   ]
  },
  {
   "cell_type": "code",
   "execution_count": 32,
   "id": "f74b5def",
   "metadata": {
    "execution": {
     "iopub.execute_input": "2025-05-12T09:48:06.376543Z",
     "iopub.status.busy": "2025-05-12T09:48:06.376077Z",
     "iopub.status.idle": "2025-05-12T09:48:06.386933Z",
     "shell.execute_reply": "2025-05-12T09:48:06.385686Z"
    },
    "papermill": {
     "duration": 0.02759,
     "end_time": "2025-05-12T09:48:06.38888",
     "exception": false,
     "start_time": "2025-05-12T09:48:06.36129",
     "status": "completed"
    },
    "tags": []
   },
   "outputs": [
    {
     "name": "stdout",
     "output_type": "stream",
     "text": [
      "_entity.id: ['1', '2', '3', '4']\n",
      "_entity.type: ['polymer', 'non-polymer', 'non-polymer', 'water']\n",
      "_entity.src_method: ['man', 'man', 'syn', 'nat']\n",
      "_entity.pdbx_description: ['RENIN', '2-acetamido-2-deoxy-beta-D-glucopyranose', 'ALISKIREN', 'water']\n",
      "_entity.formula_weight: ['37267.008', '221.208', '551.758', '18.015']\n",
      "_entity.pdbx_number_of_molecules: ['2', '2', '2', '685']\n"
     ]
    }
   ],
   "source": [
    "# Show information for specific keyword.\n",
    "for key, value in pdb_information.items(): # Get info\n",
    "    if \"?\" not in value: # Remove empty values\n",
    "        if \"_entity.\" in key: # Get data with keyword\n",
    "            print(f\"{key}: {value}\") # Show key and values"
   ]
  },
  {
   "cell_type": "code",
   "execution_count": 33,
   "id": "527190db",
   "metadata": {
    "execution": {
     "iopub.execute_input": "2025-05-12T09:48:06.418256Z",
     "iopub.status.busy": "2025-05-12T09:48:06.41793Z",
     "iopub.status.idle": "2025-05-12T09:48:06.428952Z",
     "shell.execute_reply": "2025-05-12T09:48:06.427807Z"
    },
    "papermill": {
     "duration": 0.027767,
     "end_time": "2025-05-12T09:48:06.430599",
     "exception": false,
     "start_time": "2025-05-12T09:48:06.402832",
     "status": "completed"
    },
    "tags": []
   },
   "outputs": [
    {
     "name": "stdout",
     "output_type": "stream",
     "text": [
      "Protein: RENIN with 37267.008 formula weight\n",
      "Ligand 1: 2-acetamido-2-deoxy-beta-D-glucopyranose with 221.208 formula weight\n",
      "Ligand 2: ALISKIREN with 551.758 formula weight\n",
      "Water: Yes\n"
     ]
    }
   ],
   "source": [
    "# Show information for specific keyword.\n",
    "all_entities_descript = list() # List of value of the substance.\n",
    "all_entities_weight = list() # List of value of the formula weight.\n",
    "for key, value in pdb_information.items(): # Get info\n",
    "    if \"?\" not in value: # Remove empty values\n",
    "        if \"_entity.pdbx_descriptio\" in key: # Get data with keyword\n",
    "            all_entities_descript.append(value) # Add value to list\n",
    "        if \"_entity.formula_weight\" in key: # Get data with keyword\n",
    "            all_entities_weight.append(value) # Add value to list\n",
    "water = \"Yes\" if \"water\" in  all_entities_descript[0] else \"No\"\n",
    "# Print info\n",
    "print(f\"Protein: {all_entities_descript[0][0]} with {all_entities_weight[0][0]} formula weight\")\n",
    "print(f\"Ligand 1: {all_entities_descript[0][1]} with {all_entities_weight[0][1]} formula weight\")\n",
    "print(f\"Ligand 2: {all_entities_descript[0][2]} with {all_entities_weight[0][2]} formula weight\")\n",
    "print(f\"Water: {water}\")\n"
   ]
  },
  {
   "cell_type": "code",
   "execution_count": 34,
   "id": "4f9d4362",
   "metadata": {
    "execution": {
     "iopub.execute_input": "2025-05-12T09:48:06.463434Z",
     "iopub.status.busy": "2025-05-12T09:48:06.463024Z",
     "iopub.status.idle": "2025-05-12T09:48:06.473175Z",
     "shell.execute_reply": "2025-05-12T09:48:06.472049Z"
    },
    "papermill": {
     "duration": 0.02939,
     "end_time": "2025-05-12T09:48:06.475",
     "exception": false,
     "start_time": "2025-05-12T09:48:06.44561",
     "status": "completed"
    },
    "tags": []
   },
   "outputs": [
    {
     "name": "stdout",
     "output_type": "stream",
     "text": [
      "_entity_src_gen.entity_id: ['1']\n",
      "_entity_src_gen.pdbx_src_id: ['1']\n",
      "_entity_src_gen.pdbx_alt_source_flag: ['sample']\n",
      "_entity_src_gen.gene_src_common_name: ['HUMAN']\n",
      "_entity_src_gen.pdbx_gene_src_scientific_name: ['HOMO SAPIENS']\n",
      "_entity_src_gen.pdbx_gene_src_ncbi_taxonomy_id: ['9606']\n",
      "_entity_src_gen.pdbx_host_org_scientific_name: ['CRICETULUS GRISEUS']\n",
      "_entity_src_gen.pdbx_host_org_ncbi_taxonomy_id: ['10029']\n",
      "_entity_src_gen.pdbx_host_org_cell_line: ['CHO']\n"
     ]
    }
   ],
   "source": [
    "# Show information for specific keyword.\n",
    "for key, value in pdb_information.items(): # Get info\n",
    "    if \"?\" not in value: # Remove empty values\n",
    "        if \"_entity_src\" in key: # Get data with keyword\n",
    "            print(f\"{key}: {value}\") # Show key and values"
   ]
  },
  {
   "cell_type": "code",
   "execution_count": 35,
   "id": "2787cd81",
   "metadata": {
    "execution": {
     "iopub.execute_input": "2025-05-12T09:48:06.505184Z",
     "iopub.status.busy": "2025-05-12T09:48:06.504832Z",
     "iopub.status.idle": "2025-05-12T09:48:06.515275Z",
     "shell.execute_reply": "2025-05-12T09:48:06.514119Z"
    },
    "papermill": {
     "duration": 0.027115,
     "end_time": "2025-05-12T09:48:06.516737",
     "exception": false,
     "start_time": "2025-05-12T09:48:06.489622",
     "status": "completed"
    },
    "tags": []
   },
   "outputs": [
    {
     "name": "stdout",
     "output_type": "stream",
     "text": [
      "Common Name: HUMAN\n",
      "Taxonomy ID: 9606\n",
      "Scientific Name: CRICETULUS GRISEUS\n"
     ]
    }
   ],
   "source": [
    "# Show information for specific keyword.\n",
    "for key, value in pdb_information.items(): # Get info\n",
    "    if \"?\" not in value: # Remove empty values\n",
    "        if \"_entity_src_gen.gene_src_common_name\" in key: # Get data with keyword\n",
    "            print(f\"Common Name: {value[0]}\") # Show key and values\n",
    "        if \"_entity_src_gen.pdbx_host_org_scientific_name\" in key: # Get data with keyword\n",
    "            print(f\"Scientific Name: {value[0]}\") # Show key and values\n",
    "        if \"_entity_src_gen.pdbx_gene_src_ncbi_taxonomy_id\" in key: # Get data with keyword\n",
    "            print(f\"Taxonomy ID: {value[0]}\") # Show key and values\n"
   ]
  },
  {
   "cell_type": "code",
   "execution_count": 36,
   "id": "d3587b31",
   "metadata": {
    "execution": {
     "iopub.execute_input": "2025-05-12T09:48:06.546447Z",
     "iopub.status.busy": "2025-05-12T09:48:06.546003Z",
     "iopub.status.idle": "2025-05-12T09:48:06.556713Z",
     "shell.execute_reply": "2025-05-12T09:48:06.555483Z"
    },
    "papermill": {
     "duration": 0.027727,
     "end_time": "2025-05-12T09:48:06.558275",
     "exception": false,
     "start_time": "2025-05-12T09:48:06.530548",
     "status": "completed"
    },
    "tags": []
   },
   "outputs": [
    {
     "name": "stdout",
     "output_type": "stream",
     "text": [
      "_entity_poly.entity_id: ['1']\n",
      "_entity_poly.type: ['polypeptide(L)']\n",
      "_entity_poly.nstd_linkage: ['no']\n",
      "_entity_poly.nstd_monomer: ['no']\n",
      "_entity_poly.pdbx_seq_one_letter_code: ['LTLGNTTSSVILTNYMDTQYYGEIGIGTPPQTFKVVFDTGSSNVWVPSSKCSRLYTACVYHKLFDASDSSSYKHNGTELT\\nLRYSTGTVSGFLSQDIITVGGITVTQMFGEVTEMPALPFMLAEFDGVVGMGFIEQAIGRVTPIFDNIISQGVLKEDVFSF\\nYYNRDSENSQSLGGQIVLGGSDPQHYEGNFHYINLIKTGVWQIQMKGVSVGSSTLLCEDGCLALVDTGASYISGSTSSIE\\nKLMEALGAKKRLFDYVVKCNEGPTLPDISFHLGGKEYTLTSADYVFQESYSSKKLCTLAIHAMDIPPPTGPTWALGATFI\\nRKFYTEFDRRNNRIGFALAR']\n",
      "_entity_poly.pdbx_seq_one_letter_code_can: ['LTLGNTTSSVILTNYMDTQYYGEIGIGTPPQTFKVVFDTGSSNVWVPSSKCSRLYTACVYHKLFDASDSSSYKHNGTELT\\nLRYSTGTVSGFLSQDIITVGGITVTQMFGEVTEMPALPFMLAEFDGVVGMGFIEQAIGRVTPIFDNIISQGVLKEDVFSF\\nYYNRDSENSQSLGGQIVLGGSDPQHYEGNFHYINLIKTGVWQIQMKGVSVGSSTLLCEDGCLALVDTGASYISGSTSSIE\\nKLMEALGAKKRLFDYVVKCNEGPTLPDISFHLGGKEYTLTSADYVFQESYSSKKLCTLAIHAMDIPPPTGPTWALGATFI\\nRKFYTEFDRRNNRIGFALAR']\n",
      "_entity_poly.pdbx_strand_id: ['C,O']\n",
      "_entity_poly_seq.entity_id: ['1', '1', '1', '1', '1', '1', '1', '1', '1', '1', '1', '1', '1', '1', '1', '1', '1', '1', '1', '1', '1', '1', '1', '1', '1', '1', '1', '1', '1', '1', '1', '1', '1', '1', '1', '1', '1', '1', '1', '1', '1', '1', '1', '1', '1', '1', '1', '1', '1', '1', '1', '1', '1', '1', '1', '1', '1', '1', '1', '1', '1', '1', '1', '1', '1', '1', '1', '1', '1', '1', '1', '1', '1', '1', '1', '1', '1', '1', '1', '1', '1', '1', '1', '1', '1', '1', '1', '1', '1', '1', '1', '1', '1', '1', '1', '1', '1', '1', '1', '1', '1', '1', '1', '1', '1', '1', '1', '1', '1', '1', '1', '1', '1', '1', '1', '1', '1', '1', '1', '1', '1', '1', '1', '1', '1', '1', '1', '1', '1', '1', '1', '1', '1', '1', '1', '1', '1', '1', '1', '1', '1', '1', '1', '1', '1', '1', '1', '1', '1', '1', '1', '1', '1', '1', '1', '1', '1', '1', '1', '1', '1', '1', '1', '1', '1', '1', '1', '1', '1', '1', '1', '1', '1', '1', '1', '1', '1', '1', '1', '1', '1', '1', '1', '1', '1', '1', '1', '1', '1', '1', '1', '1', '1', '1', '1', '1', '1', '1', '1', '1', '1', '1', '1', '1', '1', '1', '1', '1', '1', '1', '1', '1', '1', '1', '1', '1', '1', '1', '1', '1', '1', '1', '1', '1', '1', '1', '1', '1', '1', '1', '1', '1', '1', '1', '1', '1', '1', '1', '1', '1', '1', '1', '1', '1', '1', '1', '1', '1', '1', '1', '1', '1', '1', '1', '1', '1', '1', '1', '1', '1', '1', '1', '1', '1', '1', '1', '1', '1', '1', '1', '1', '1', '1', '1', '1', '1', '1', '1', '1', '1', '1', '1', '1', '1', '1', '1', '1', '1', '1', '1', '1', '1', '1', '1', '1', '1', '1', '1', '1', '1', '1', '1', '1', '1', '1', '1', '1', '1', '1', '1', '1', '1', '1', '1', '1', '1', '1', '1', '1', '1', '1', '1', '1', '1', '1', '1', '1', '1', '1', '1', '1', '1', '1', '1', '1', '1', '1', '1', '1', '1']\n",
      "_entity_poly_seq.num: ['1', '2', '3', '4', '5', '6', '7', '8', '9', '10', '11', '12', '13', '14', '15', '16', '17', '18', '19', '20', '21', '22', '23', '24', '25', '26', '27', '28', '29', '30', '31', '32', '33', '34', '35', '36', '37', '38', '39', '40', '41', '42', '43', '44', '45', '46', '47', '48', '49', '50', '51', '52', '53', '54', '55', '56', '57', '58', '59', '60', '61', '62', '63', '64', '65', '66', '67', '68', '69', '70', '71', '72', '73', '74', '75', '76', '77', '78', '79', '80', '81', '82', '83', '84', '85', '86', '87', '88', '89', '90', '91', '92', '93', '94', '95', '96', '97', '98', '99', '100', '101', '102', '103', '104', '105', '106', '107', '108', '109', '110', '111', '112', '113', '114', '115', '116', '117', '118', '119', '120', '121', '122', '123', '124', '125', '126', '127', '128', '129', '130', '131', '132', '133', '134', '135', '136', '137', '138', '139', '140', '141', '142', '143', '144', '145', '146', '147', '148', '149', '150', '151', '152', '153', '154', '155', '156', '157', '158', '159', '160', '161', '162', '163', '164', '165', '166', '167', '168', '169', '170', '171', '172', '173', '174', '175', '176', '177', '178', '179', '180', '181', '182', '183', '184', '185', '186', '187', '188', '189', '190', '191', '192', '193', '194', '195', '196', '197', '198', '199', '200', '201', '202', '203', '204', '205', '206', '207', '208', '209', '210', '211', '212', '213', '214', '215', '216', '217', '218', '219', '220', '221', '222', '223', '224', '225', '226', '227', '228', '229', '230', '231', '232', '233', '234', '235', '236', '237', '238', '239', '240', '241', '242', '243', '244', '245', '246', '247', '248', '249', '250', '251', '252', '253', '254', '255', '256', '257', '258', '259', '260', '261', '262', '263', '264', '265', '266', '267', '268', '269', '270', '271', '272', '273', '274', '275', '276', '277', '278', '279', '280', '281', '282', '283', '284', '285', '286', '287', '288', '289', '290', '291', '292', '293', '294', '295', '296', '297', '298', '299', '300', '301', '302', '303', '304', '305', '306', '307', '308', '309', '310', '311', '312', '313', '314', '315', '316', '317', '318', '319', '320', '321', '322', '323', '324', '325', '326', '327', '328', '329', '330', '331', '332', '333', '334', '335', '336', '337', '338', '339', '340']\n",
      "_entity_poly_seq.mon_id: ['LEU', 'THR', 'LEU', 'GLY', 'ASN', 'THR', 'THR', 'SER', 'SER', 'VAL', 'ILE', 'LEU', 'THR', 'ASN', 'TYR', 'MET', 'ASP', 'THR', 'GLN', 'TYR', 'TYR', 'GLY', 'GLU', 'ILE', 'GLY', 'ILE', 'GLY', 'THR', 'PRO', 'PRO', 'GLN', 'THR', 'PHE', 'LYS', 'VAL', 'VAL', 'PHE', 'ASP', 'THR', 'GLY', 'SER', 'SER', 'ASN', 'VAL', 'TRP', 'VAL', 'PRO', 'SER', 'SER', 'LYS', 'CYS', 'SER', 'ARG', 'LEU', 'TYR', 'THR', 'ALA', 'CYS', 'VAL', 'TYR', 'HIS', 'LYS', 'LEU', 'PHE', 'ASP', 'ALA', 'SER', 'ASP', 'SER', 'SER', 'SER', 'TYR', 'LYS', 'HIS', 'ASN', 'GLY', 'THR', 'GLU', 'LEU', 'THR', 'LEU', 'ARG', 'TYR', 'SER', 'THR', 'GLY', 'THR', 'VAL', 'SER', 'GLY', 'PHE', 'LEU', 'SER', 'GLN', 'ASP', 'ILE', 'ILE', 'THR', 'VAL', 'GLY', 'GLY', 'ILE', 'THR', 'VAL', 'THR', 'GLN', 'MET', 'PHE', 'GLY', 'GLU', 'VAL', 'THR', 'GLU', 'MET', 'PRO', 'ALA', 'LEU', 'PRO', 'PHE', 'MET', 'LEU', 'ALA', 'GLU', 'PHE', 'ASP', 'GLY', 'VAL', 'VAL', 'GLY', 'MET', 'GLY', 'PHE', 'ILE', 'GLU', 'GLN', 'ALA', 'ILE', 'GLY', 'ARG', 'VAL', 'THR', 'PRO', 'ILE', 'PHE', 'ASP', 'ASN', 'ILE', 'ILE', 'SER', 'GLN', 'GLY', 'VAL', 'LEU', 'LYS', 'GLU', 'ASP', 'VAL', 'PHE', 'SER', 'PHE', 'TYR', 'TYR', 'ASN', 'ARG', 'ASP', 'SER', 'GLU', 'ASN', 'SER', 'GLN', 'SER', 'LEU', 'GLY', 'GLY', 'GLN', 'ILE', 'VAL', 'LEU', 'GLY', 'GLY', 'SER', 'ASP', 'PRO', 'GLN', 'HIS', 'TYR', 'GLU', 'GLY', 'ASN', 'PHE', 'HIS', 'TYR', 'ILE', 'ASN', 'LEU', 'ILE', 'LYS', 'THR', 'GLY', 'VAL', 'TRP', 'GLN', 'ILE', 'GLN', 'MET', 'LYS', 'GLY', 'VAL', 'SER', 'VAL', 'GLY', 'SER', 'SER', 'THR', 'LEU', 'LEU', 'CYS', 'GLU', 'ASP', 'GLY', 'CYS', 'LEU', 'ALA', 'LEU', 'VAL', 'ASP', 'THR', 'GLY', 'ALA', 'SER', 'TYR', 'ILE', 'SER', 'GLY', 'SER', 'THR', 'SER', 'SER', 'ILE', 'GLU', 'LYS', 'LEU', 'MET', 'GLU', 'ALA', 'LEU', 'GLY', 'ALA', 'LYS', 'LYS', 'ARG', 'LEU', 'PHE', 'ASP', 'TYR', 'VAL', 'VAL', 'LYS', 'CYS', 'ASN', 'GLU', 'GLY', 'PRO', 'THR', 'LEU', 'PRO', 'ASP', 'ILE', 'SER', 'PHE', 'HIS', 'LEU', 'GLY', 'GLY', 'LYS', 'GLU', 'TYR', 'THR', 'LEU', 'THR', 'SER', 'ALA', 'ASP', 'TYR', 'VAL', 'PHE', 'GLN', 'GLU', 'SER', 'TYR', 'SER', 'SER', 'LYS', 'LYS', 'LEU', 'CYS', 'THR', 'LEU', 'ALA', 'ILE', 'HIS', 'ALA', 'MET', 'ASP', 'ILE', 'PRO', 'PRO', 'PRO', 'THR', 'GLY', 'PRO', 'THR', 'TRP', 'ALA', 'LEU', 'GLY', 'ALA', 'THR', 'PHE', 'ILE', 'ARG', 'LYS', 'PHE', 'TYR', 'THR', 'GLU', 'PHE', 'ASP', 'ARG', 'ARG', 'ASN', 'ASN', 'ARG', 'ILE', 'GLY', 'PHE', 'ALA', 'LEU', 'ALA', 'ARG']\n",
      "_entity_poly_seq.hetero: ['n', 'n', 'n', 'n', 'n', 'n', 'n', 'n', 'n', 'n', 'n', 'n', 'n', 'n', 'n', 'n', 'n', 'n', 'n', 'n', 'n', 'n', 'n', 'n', 'n', 'n', 'n', 'n', 'n', 'n', 'n', 'n', 'n', 'n', 'n', 'n', 'n', 'n', 'n', 'n', 'n', 'n', 'n', 'n', 'n', 'n', 'n', 'n', 'n', 'n', 'n', 'n', 'n', 'n', 'n', 'n', 'n', 'n', 'n', 'n', 'n', 'n', 'n', 'n', 'n', 'n', 'n', 'n', 'n', 'n', 'n', 'n', 'n', 'n', 'n', 'n', 'n', 'n', 'n', 'n', 'n', 'n', 'n', 'n', 'n', 'n', 'n', 'n', 'n', 'n', 'n', 'n', 'n', 'n', 'n', 'n', 'n', 'n', 'n', 'n', 'n', 'n', 'n', 'n', 'n', 'n', 'n', 'n', 'n', 'n', 'n', 'n', 'n', 'n', 'n', 'n', 'n', 'n', 'n', 'n', 'n', 'n', 'n', 'n', 'n', 'n', 'n', 'n', 'n', 'n', 'n', 'n', 'n', 'n', 'n', 'n', 'n', 'n', 'n', 'n', 'n', 'n', 'n', 'n', 'n', 'n', 'n', 'n', 'n', 'n', 'n', 'n', 'n', 'n', 'n', 'n', 'n', 'n', 'n', 'n', 'n', 'n', 'n', 'n', 'n', 'n', 'n', 'n', 'n', 'n', 'n', 'n', 'n', 'n', 'n', 'n', 'n', 'n', 'n', 'n', 'n', 'n', 'n', 'n', 'n', 'n', 'n', 'n', 'n', 'n', 'n', 'n', 'n', 'n', 'n', 'n', 'n', 'n', 'n', 'n', 'n', 'n', 'n', 'n', 'n', 'n', 'n', 'n', 'n', 'n', 'n', 'n', 'n', 'n', 'n', 'n', 'n', 'n', 'n', 'n', 'n', 'n', 'n', 'n', 'n', 'n', 'n', 'n', 'n', 'n', 'n', 'n', 'n', 'n', 'n', 'n', 'n', 'n', 'n', 'n', 'n', 'n', 'n', 'n', 'n', 'n', 'n', 'n', 'n', 'n', 'n', 'n', 'n', 'n', 'n', 'n', 'n', 'n', 'n', 'n', 'n', 'n', 'n', 'n', 'n', 'n', 'n', 'n', 'n', 'n', 'n', 'n', 'n', 'n', 'n', 'n', 'n', 'n', 'n', 'n', 'n', 'n', 'n', 'n', 'n', 'n', 'n', 'n', 'n', 'n', 'n', 'n', 'n', 'n', 'n', 'n', 'n', 'n', 'n', 'n', 'n', 'n', 'n', 'n', 'n', 'n', 'n', 'n', 'n', 'n', 'n', 'n', 'n', 'n', 'n', 'n', 'n', 'n', 'n', 'n', 'n', 'n', 'n', 'n', 'n', 'n', 'n', 'n', 'n', 'n', 'n', 'n', 'n', 'n', 'n', 'n', 'n', 'n', 'n', 'n']\n"
     ]
    }
   ],
   "source": [
    "# Show information for specific keyword.\n",
    "for key, value in pdb_information.items(): # Get info\n",
    "    if \"?\" not in value: # Remove empty values\n",
    "        if \"_entity_poly\" in key: # Get data with keyword\n",
    "            print(f\"{key}: {value}\") # Show key and values"
   ]
  },
  {
   "cell_type": "code",
   "execution_count": 37,
   "id": "7f1c1448",
   "metadata": {
    "execution": {
     "iopub.execute_input": "2025-05-12T09:48:06.587837Z",
     "iopub.status.busy": "2025-05-12T09:48:06.587497Z",
     "iopub.status.idle": "2025-05-12T09:48:06.597251Z",
     "shell.execute_reply": "2025-05-12T09:48:06.596398Z"
    },
    "papermill": {
     "duration": 0.025886,
     "end_time": "2025-05-12T09:48:06.59886",
     "exception": false,
     "start_time": "2025-05-12T09:48:06.572974",
     "status": "completed"
    },
    "tags": []
   },
   "outputs": [
    {
     "name": "stdout",
     "output_type": "stream",
     "text": [
      "Protein seq: LTLGNTTSSVILTNYMDTQYYGEIGIGTPPQTFKVVFDTGSSNVWVPSSKCSRLYTACVYHKLFDASDSSSYKHNGTELTLRYSTGTVSGFLSQDIITVGGITVTQMFGEVTEMPALPFMLAEFDGVVGMGFIEQAIGRVTPIFDNIISQGVLKEDVFSFYYNRDSENSQSLGGQIVLGGSDPQHYEGNFHYINLIKTGVWQIQMKGVSVGSSTLLCEDGCLALVDTGASYISGSTSSIEKLMEALGAKKRLFDYVVKCNEGPTLPDISFHLGGKEYTLTSADYVFQESYSSKKLCTLAIHAMDIPPPTGPTWALGATFIRKFYTEFDRRNNRIGFALAR\n"
     ]
    }
   ],
   "source": [
    "# Show information for specific keyword.\n",
    "for key, value in pdb_information.items(): # Get info\n",
    "    if \"?\" not in value: # Remove empty values\n",
    "        if \"_entity_poly.pdbx_seq_one_letter_code\" == key: # Get data with keyword\n",
    "            # remove '\\n'\n",
    "            split_value = str(value[0]).split(\"\\n\")\n",
    "            seq = \"\".join(split_value) # Join split values with a space\n",
    "            # Show key and values\n",
    "            print(f\"Protein seq: {seq}\")"
   ]
  },
  {
   "cell_type": "markdown",
   "id": "a3a9074c",
   "metadata": {
    "papermill": {
     "duration": 0.013993,
     "end_time": "2025-05-12T09:48:06.62674",
     "exception": false,
     "start_time": "2025-05-12T09:48:06.612747",
     "status": "completed"
    },
    "tags": []
   },
   "source": [
    "# <p style=\"background-color:black; font-family:calibri; color:#FF00FF; font-size:170%; text-align:center; border-radius:30px 30px;\">5. The Fifth Step | Atoms Analysis </p>"
   ]
  },
  {
   "cell_type": "code",
   "execution_count": 38,
   "id": "c196a3a6",
   "metadata": {
    "execution": {
     "iopub.execute_input": "2025-05-12T09:48:06.655728Z",
     "iopub.status.busy": "2025-05-12T09:48:06.655414Z",
     "iopub.status.idle": "2025-05-12T09:48:06.933776Z",
     "shell.execute_reply": "2025-05-12T09:48:06.9328Z"
    },
    "papermill": {
     "duration": 0.29476,
     "end_time": "2025-05-12T09:48:06.935723",
     "exception": false,
     "start_time": "2025-05-12T09:48:06.640963",
     "status": "completed"
    },
    "tags": []
   },
   "outputs": [],
   "source": [
    "pdb_id = \"2v0z\" # pdb id\n",
    "parser = MMCIFParser(QUIET=True) # Create MMCIFParser class for atom analysis\n",
    "structure = parser.get_structure(pdb_id, path_of_cif_file) # Create structure"
   ]
  },
  {
   "cell_type": "code",
   "execution_count": 39,
   "id": "47477ce7",
   "metadata": {
    "execution": {
     "iopub.execute_input": "2025-05-12T09:48:06.965525Z",
     "iopub.status.busy": "2025-05-12T09:48:06.965174Z",
     "iopub.status.idle": "2025-05-12T09:48:06.970595Z",
     "shell.execute_reply": "2025-05-12T09:48:06.969863Z"
    },
    "papermill": {
     "duration": 0.022037,
     "end_time": "2025-05-12T09:48:06.971942",
     "exception": false,
     "start_time": "2025-05-12T09:48:06.949905",
     "status": "completed"
    },
    "tags": []
   },
   "outputs": [
    {
     "data": {
      "text/plain": [
       "generator"
      ]
     },
     "execution_count": 39,
     "metadata": {},
     "output_type": "execute_result"
    }
   ],
   "source": [
    "# Not : Just use one time for use more than one time you should run generator again.\n",
    "atoms = structure.get_atoms() # Get atoms\n",
    "type(atoms)"
   ]
  },
  {
   "cell_type": "code",
   "execution_count": 40,
   "id": "29b2ecc9",
   "metadata": {
    "execution": {
     "iopub.execute_input": "2025-05-12T09:48:07.001596Z",
     "iopub.status.busy": "2025-05-12T09:48:07.001289Z",
     "iopub.status.idle": "2025-05-12T09:48:07.009696Z",
     "shell.execute_reply": "2025-05-12T09:48:07.008569Z"
    },
    "papermill": {
     "duration": 0.025016,
     "end_time": "2025-05-12T09:48:07.011028",
     "exception": false,
     "start_time": "2025-05-12T09:48:06.986012",
     "status": "completed"
    },
    "tags": []
   },
   "outputs": [
    {
     "name": "stdout",
     "output_type": "stream",
     "text": [
      "Coordinates of oxygen atom: X: 36.07500076293945, Y: 15.322999954223633, Z: 90.21499633789062\n"
     ]
    }
   ],
   "source": [
    "atom_list = list(atoms) # List od atom\n",
    "for atom in atom_list: # Get info\n",
    "    if atom.element == \"O\": # Set specific atom\n",
    "        oxigen_atom = atom # Atom name\n",
    "        oxigen_coordinates = oxigen_atom.get_coord() # Atom coordinate\n",
    "print(f\"Coordinates of oxygen atom: X: {oxigen_coordinates[0]}, Y: {oxigen_coordinates[1]}, Z: {oxigen_coordinates[2]}\")"
   ]
  },
  {
   "cell_type": "code",
   "execution_count": 41,
   "id": "c98c51d4",
   "metadata": {
    "execution": {
     "iopub.execute_input": "2025-05-12T09:48:07.04167Z",
     "iopub.status.busy": "2025-05-12T09:48:07.040661Z",
     "iopub.status.idle": "2025-05-12T09:48:07.060184Z",
     "shell.execute_reply": "2025-05-12T09:48:07.059157Z"
    },
    "papermill": {
     "duration": 0.036288,
     "end_time": "2025-05-12T09:48:07.061809",
     "exception": false,
     "start_time": "2025-05-12T09:48:07.025521",
     "status": "completed"
    },
    "tags": []
   },
   "outputs": [
    {
     "name": "stdout",
     "output_type": "stream",
     "text": [
      "Number of oxigen atoms within 5 is 27 neighboring atoms\n",
      "\n",
      "Atom: C16    |  Element: C  |  Coordinates: [32.106 14.158 88.409]\n",
      "Atom: C20    |  Element: C  |  Coordinates: [32.838 12.868 87.99 ]\n",
      "Atom: C21    |  Element: C  |  Coordinates: [34.356 12.895 88.264]\n",
      "Atom: N22    |  Element: N  |  Coordinates: [34.995 14.058 87.596]\n",
      "Atom: C23    |  Element: C  |  Coordinates: [35.036 11.575 87.838]\n",
      "Atom: C25    |  Element: C  |  Coordinates: [36.49  11.552 88.3  ]\n",
      "Atom: O      |  Element: O  |  Coordinates: [33.887 16.9   87.325]\n",
      "Atom: C      |  Element: C  |  Coordinates: [34.56  17.169 86.33 ]\n",
      "Atom: N      |  Element: N  |  Coordinates: [35.75  17.778 86.401]\n",
      "Atom: CA     |  Element: C  |  Coordinates: [36.33  18.238 87.677]\n",
      "Atom: C15    |  Element: C  |  Coordinates: [32.172 14.332 89.929]\n",
      "Atom: OG1    |  Element: O  |  Coordinates: [33.253 13.587 93.655]\n",
      "Atom: O      |  Element: O  |  Coordinates: [35.021 12.928 91.719]\n",
      "Atom: C9     |  Element: C  |  Coordinates: [31.386 15.557 90.428]\n",
      "Atom: C8     |  Element: C  |  Coordinates: [31.632 16.845 89.932]\n",
      "Atom: O      |  Element: O  |  Coordinates: [35.762 17.943 90.937]\n",
      "Atom: O      |  Element: O  |  Coordinates: [36.075 15.323 90.215]\n",
      "Atom: O      |  Element: O  |  Coordinates: [34.425 17.858 93.181]\n",
      "Atom: OD1    |  Element: O  |  Coordinates: [37.653 14.501 86.77 ]\n",
      "Atom: CG     |  Element: C  |  Coordinates: [37.713 14.878 85.589]\n",
      "Atom: OG     |  Element: O  |  Coordinates: [37.058 11.558 92.254]\n",
      "Atom: O      |  Element: O  |  Coordinates: [38.635 14.745 89.286]\n",
      "Atom: CE     |  Element: C  |  Coordinates: [39.185 13.949 92.265]\n",
      "Atom: CB     |  Element: C  |  Coordinates: [37.765 17.759 87.827]\n",
      "Atom: O      |  Element: O  |  Coordinates: [39.972 17.008 90.411]\n",
      "Atom: SD     |  Element: S  |  Coordinates: [38.677 14.938 93.728]\n",
      "Atom: O      |  Element: O  |  Coordinates: [38.376 19.107 91.359]\n"
     ]
    }
   ],
   "source": [
    "# Find atoms\n",
    "cutoff_distance = 5 # Distance\n",
    "search_in_neighbor = NeighborSearch(atom_list) # Create NeighborSearch class for find nearby atoms\n",
    "nearby_atoms = search_in_neighbor.search(oxigen_coordinates, cutoff_distance) # Search\n",
    "# Print result\n",
    "print(f\"Number of oxigen atoms within {cutoff_distance} is {len(nearby_atoms)} neighboring atoms\")\n",
    "print()\n",
    "for atom in nearby_atoms:\n",
    "    print(f\"Atom: {(str(atom))[6:-1]:5}  |  Element: {str(atom.element)}  |  Coordinates: {str(atom.coord)}\") "
   ]
  },
  {
   "cell_type": "code",
   "execution_count": 42,
   "id": "2e9eba09",
   "metadata": {
    "execution": {
     "iopub.execute_input": "2025-05-12T09:48:07.091075Z",
     "iopub.status.busy": "2025-05-12T09:48:07.090785Z",
     "iopub.status.idle": "2025-05-12T09:48:07.099365Z",
     "shell.execute_reply": "2025-05-12T09:48:07.098081Z"
    },
    "papermill": {
     "duration": 0.0249,
     "end_time": "2025-05-12T09:48:07.10079",
     "exception": false,
     "start_time": "2025-05-12T09:48:07.07589",
     "status": "completed"
    },
    "tags": []
   },
   "outputs": [
    {
     "name": "stdout",
     "output_type": "stream",
     "text": [
      "Residue Name: C41  |  Residue ID: 1327   |  Atom: C  |  Coordinations: [32.106 14.158 88.409]\n",
      "Residue Name: C41  |  Residue ID: 1327   |  Atom: C  |  Coordinations: [32.838 12.868 87.99 ]\n",
      "Residue Name: C41  |  Residue ID: 1327   |  Atom: C  |  Coordinations: [34.356 12.895 88.264]\n",
      "Residue Name: C41  |  Residue ID: 1327   |  Atom: N  |  Coordinations: [34.995 14.058 87.596]\n",
      "Residue Name: C41  |  Residue ID: 1327   |  Atom: C  |  Coordinations: [35.036 11.575 87.838]\n",
      "Residue Name: C41  |  Residue ID: 1327   |  Atom: C  |  Coordinations: [36.49  11.552 88.3  ]\n",
      "Residue Name: GLY  |  Residue ID: 217    |  Atom: O  |  Coordinations: [33.887 16.9   87.325]\n",
      "Residue Name: GLY  |  Residue ID: 217    |  Atom: C  |  Coordinations: [34.56  17.169 86.33 ]\n",
      "Residue Name: ALA  |  Residue ID: 218    |  Atom: N  |  Coordinations: [35.75  17.778 86.401]\n",
      "Residue Name: ALA  |  Residue ID: 218    |  Atom: C  |  Coordinations: [36.33  18.238 87.677]\n",
      "Residue Name: C41  |  Residue ID: 1327   |  Atom: C  |  Coordinations: [32.172 14.332 89.929]\n",
      "Residue Name: THR  |  Residue ID: 77     |  Atom: O  |  Coordinations: [33.253 13.587 93.655]\n",
      "Residue Name: HOH  |  Residue ID: 2110   |  Atom: O  |  Coordinations: [35.021 12.928 91.719]\n",
      "Residue Name: C41  |  Residue ID: 1327   |  Atom: C  |  Coordinations: [31.386 15.557 90.428]\n",
      "Residue Name: C41  |  Residue ID: 1327   |  Atom: C  |  Coordinations: [31.632 16.845 89.932]\n",
      "Residue Name: HOH  |  Residue ID: 2227   |  Atom: O  |  Coordinations: [35.762 17.943 90.937]\n",
      "Residue Name: HOH  |  Residue ID: 2333   |  Atom: O  |  Coordinations: [36.075 15.323 90.215]\n",
      "Residue Name: HOH  |  Residue ID: 2047   |  Atom: O  |  Coordinations: [34.425 17.858 93.181]\n",
      "Residue Name: ASP  |  Residue ID: 215    |  Atom: O  |  Coordinations: [37.653 14.501 86.77 ]\n",
      "Residue Name: ASP  |  Residue ID: 215    |  Atom: C  |  Coordinations: [37.713 14.878 85.589]\n",
      "Residue Name: SER  |  Residue ID: 76     |  Atom: O  |  Coordinations: [37.058 11.558 92.254]\n",
      "Residue Name: HOH  |  Residue ID: 2226   |  Atom: O  |  Coordinations: [38.635 14.745 89.286]\n",
      "Residue Name: MET  |  Residue ID: 289    |  Atom: C  |  Coordinations: [39.185 13.949 92.265]\n",
      "Residue Name: ALA  |  Residue ID: 218    |  Atom: C  |  Coordinations: [37.765 17.759 87.827]\n",
      "Residue Name: HOH  |  Residue ID: 2232   |  Atom: O  |  Coordinations: [39.972 17.008 90.411]\n",
      "Residue Name: MET  |  Residue ID: 289    |  Atom: S  |  Coordinations: [38.677 14.938 93.728]\n",
      "Residue Name: HOH  |  Residue ID: 2229   |  Atom: O  |  Coordinations: [38.376 19.107 91.359]\n"
     ]
    }
   ],
   "source": [
    "# Find residue\n",
    "for atom in nearby_atoms: # Get info\n",
    "    residue = atom.get_parent() # residue\n",
    "    # Show info\n",
    "    print(f\"Residue Name: {residue.get_resname()}  |  Residue ID: {str(residue.get_id()[1]):5}  |  Atom: {atom.element}  |  Coordinations: {atom.coord}\")"
   ]
  },
  {
   "cell_type": "code",
   "execution_count": 43,
   "id": "d59bc9dc",
   "metadata": {
    "execution": {
     "iopub.execute_input": "2025-05-12T09:48:07.131414Z",
     "iopub.status.busy": "2025-05-12T09:48:07.131081Z",
     "iopub.status.idle": "2025-05-12T09:48:07.139775Z",
     "shell.execute_reply": "2025-05-12T09:48:07.13854Z"
    },
    "papermill": {
     "duration": 0.025739,
     "end_time": "2025-05-12T09:48:07.141203",
     "exception": false,
     "start_time": "2025-05-12T09:48:07.115464",
     "status": "completed"
    },
    "tags": []
   },
   "outputs": [
    {
     "name": "stdout",
     "output_type": "stream",
     "text": [
      "Atom: C  |  Residue Name: C41  |  Residue ID: 1327  |  Coordinations: [32.106 14.158 88.409]\n",
      "Atom: C  |  Residue Name: C41  |  Residue ID: 1327  |  Coordinations: [32.838 12.868 87.99 ]\n",
      "Atom: C  |  Residue Name: C41  |  Residue ID: 1327  |  Coordinations: [34.356 12.895 88.264]\n",
      "Atom: N  |  Residue Name: C41  |  Residue ID: 1327  |  Coordinations: [34.995 14.058 87.596]\n",
      "Atom: C  |  Residue Name: C41  |  Residue ID: 1327  |  Coordinations: [35.036 11.575 87.838]\n",
      "Atom: C  |  Residue Name: C41  |  Residue ID: 1327  |  Coordinations: [36.49  11.552 88.3  ]\n",
      "Atom: O  |  Residue Name: GLY  |  Residue ID:  217  |  Coordinations: [33.887 16.9   87.325]\n",
      "Atom: C  |  Residue Name: GLY  |  Residue ID:  217  |  Coordinations: [34.56  17.169 86.33 ]\n",
      "Atom: N  |  Residue Name: ALA  |  Residue ID:  218  |  Coordinations: [35.75  17.778 86.401]\n",
      "Atom: C  |  Residue Name: ALA  |  Residue ID:  218  |  Coordinations: [36.33  18.238 87.677]\n",
      "Atom: C  |  Residue Name: C41  |  Residue ID: 1327  |  Coordinations: [32.172 14.332 89.929]\n",
      "Atom: O  |  Residue Name: THR  |  Residue ID:   77  |  Coordinations: [33.253 13.587 93.655]\n",
      "Atom: O  |  Residue Name: HOH  |  Residue ID: 2110  |  Coordinations: [35.021 12.928 91.719]\n",
      "Atom: C  |  Residue Name: C41  |  Residue ID: 1327  |  Coordinations: [31.386 15.557 90.428]\n",
      "Atom: C  |  Residue Name: C41  |  Residue ID: 1327  |  Coordinations: [31.632 16.845 89.932]\n",
      "Atom: O  |  Residue Name: HOH  |  Residue ID: 2227  |  Coordinations: [35.762 17.943 90.937]\n",
      "Atom: O  |  Residue Name: HOH  |  Residue ID: 2333  |  Coordinations: [36.075 15.323 90.215]\n",
      "Atom: O  |  Residue Name: HOH  |  Residue ID: 2047  |  Coordinations: [34.425 17.858 93.181]\n",
      "Atom: O  |  Residue Name: ASP  |  Residue ID:  215  |  Coordinations: [37.653 14.501 86.77 ]\n",
      "Atom: C  |  Residue Name: ASP  |  Residue ID:  215  |  Coordinations: [37.713 14.878 85.589]\n",
      "Atom: O  |  Residue Name: SER  |  Residue ID:   76  |  Coordinations: [37.058 11.558 92.254]\n",
      "Atom: O  |  Residue Name: HOH  |  Residue ID: 2226  |  Coordinations: [38.635 14.745 89.286]\n",
      "Atom: C  |  Residue Name: MET  |  Residue ID:  289  |  Coordinations: [39.185 13.949 92.265]\n",
      "Atom: C  |  Residue Name: ALA  |  Residue ID:  218  |  Coordinations: [37.765 17.759 87.827]\n",
      "Atom: O  |  Residue Name: HOH  |  Residue ID: 2232  |  Coordinations: [39.972 17.008 90.411]\n",
      "Atom: S  |  Residue Name: MET  |  Residue ID:  289  |  Coordinations: [38.677 14.938 93.728]\n",
      "Atom: O  |  Residue Name: HOH  |  Residue ID: 2229  |  Coordinations: [38.376 19.107 91.359]\n"
     ]
    }
   ],
   "source": [
    "# Find residue without specifc residue (oxigen_atom)\n",
    "for atom in nearby_atoms:\n",
    "    residue = atom.get_parent()\n",
    "    if residue != oxigen_atom:\n",
    "        print(f\"Atom: {atom.element}  |  Residue Name: {residue.get_resname():5}|  Residue ID:{(residue.get_id()[1]):5}  |  Coordinations: {atom.coord}\")"
   ]
  },
  {
   "cell_type": "markdown",
   "id": "f1fb6bbb",
   "metadata": {
    "papermill": {
     "duration": 0.014368,
     "end_time": "2025-05-12T09:48:07.169902",
     "exception": false,
     "start_time": "2025-05-12T09:48:07.155534",
     "status": "completed"
    },
    "tags": []
   },
   "source": [
    "# <p style=\"background-color:black; font-family:calibri; color:#FF00FF; font-size:170%; text-align:center; border-radius:30px 30px;\">6. The Sixth Step | Visualizations</p>"
   ]
  },
  {
   "cell_type": "markdown",
   "id": "47a00e43",
   "metadata": {
    "papermill": {
     "duration": 0.013846,
     "end_time": "2025-05-12T09:48:07.198149",
     "exception": false,
     "start_time": "2025-05-12T09:48:07.184303",
     "status": "completed"
    },
    "tags": []
   },
   "source": [
    "# <p style=\"background-color:black; font-family:calibri; color:#FFC133; font-size:120%; text-align:center; border-radius:30px 30px;\">6_1. Visualization All Molecules </p>"
   ]
  },
  {
   "cell_type": "markdown",
   "id": "e533b2c6",
   "metadata": {
    "papermill": {
     "duration": 0.013662,
     "end_time": "2025-05-12T09:48:07.226059",
     "exception": false,
     "start_time": "2025-05-12T09:48:07.212397",
     "status": "completed"
    },
    "tags": []
   },
   "source": [
    "<h1>Note:</h1> <h2>\"This section must be run on your own system due to intractive visualization.\"</h2>"
   ]
  },
  {
   "cell_type": "markdown",
   "id": "c8e5b922",
   "metadata": {
    "papermill": {
     "duration": 0.014293,
     "end_time": "2025-05-12T09:48:07.255099",
     "exception": false,
     "start_time": "2025-05-12T09:48:07.240806",
     "status": "completed"
    },
    "tags": []
   },
   "source": [
    "<!DOCTYPE html>\n",
    "<html lang=\"en\">\n",
    "<head>\n",
    "    <meta charset=\"UTF-8\">\n",
    "    <meta name=\"viewport\" content=\"width=device-width, initial-scale=1.0\">\n",
    "    <title></title>\n",
    "    <style>\n",
    "        body {\n",
    "            font-family: Arial, sans-serif;\n",
    "            line-height: 1.6;\n",
    "            margin: 20px;\n",
    "            background-color: #f4f4f9;\n",
    "        }\n",
    "        .representation {\n",
    "            margin-bottom: 20px;\n",
    "            padding: 15px;\n",
    "            border: 1px solid #ddd;\n",
    "            border-radius: 5px;\n",
    "            background-color: #fff;\n",
    "        }\n",
    "        .representation h2 {\n",
    "            margin-top: 0;\n",
    "            color: #333;\n",
    "        }\n",
    "        .representation p {\n",
    "            margin: 0;\n",
    "            color: #555;\n",
    "        }\n",
    "    </style>\n",
    "</head>\n",
    "<body>\n",
    "    <h1>Different Types of Protein Representations</h1>\n",
    "\n",
    "<div class=\"representation\">\n",
    "        <h2>Cartoon</h2>\n",
    "        <p>Displays the protein backbone as a cartoon-like ribbon, highlighting secondary structures such as alpha-helices and beta-sheets. This is useful for understanding the overall structure of the protein.</p>\n",
    "</div>\n",
    "\n",
    "<div class=\"representation\">\n",
    "    <h2>Ball+Stick</h2>\n",
    "    <p>Shows atoms as balls and bonds as sticks, providing a detailed view of the atomic structure. This is ideal for examining small molecules or specific regions of the protein.</p>\n",
    "</div>\n",
    "\n",
    "<div class=\"representation\">\n",
    "    <h2>Licorice</h2>\n",
    "    <p>Similar to Ball+Stick but with thinner bonds, emphasizing the connectivity between atoms.</p>\n",
    "</div>\n",
    "\n",
    "<div class=\"representation\">\n",
    "    <h2>Spacefill</h2>\n",
    "    <p>Represents atoms as spheres with radii proportional to their van der Waals radii, giving a sense of the molecular volume.</p>\n",
    "</div>\n",
    "\n",
    "<div class=\"representation\">\n",
    "    <h2>Hyperball</h2>\n",
    "    <p>A variation of Ball+Stick with exaggerated bonds, making it easier to see the connections in complex structures.</p>\n",
    "</div>\n",
    "\n",
    "<div class=\"representation\">\n",
    "    <h2>Surface</h2>\n",
    "    <p>Displays the molecular surface, which is useful for visualizing the shape and accessible surface area of the protein.</p>\n",
    "</div>\n",
    "\n",
    "<div class=\"representation\">\n",
    "    <h2>Base</h2>\n",
    "    <p>Highlights the base of nucleotides in DNA or RNA structures.</p>\n",
    "    </div>\n",
    "</body>\n",
    "</html>"
   ]
  },
  {
   "cell_type": "code",
   "execution_count": null,
   "id": "d3cb9355",
   "metadata": {
    "execution": {
     "iopub.execute_input": "2025-05-12T09:48:07.285115Z",
     "iopub.status.busy": "2025-05-12T09:48:07.28485Z",
     "iopub.status.idle": "2025-05-12T09:48:07.289116Z",
     "shell.execute_reply": "2025-05-12T09:48:07.288323Z"
    },
    "papermill": {
     "duration": 0.02128,
     "end_time": "2025-05-12T09:48:07.29072",
     "exception": false,
     "start_time": "2025-05-12T09:48:07.26944",
     "status": "completed"
    },
    "tags": []
   },
   "outputs": [],
   "source": [
    "# Show all molecules with ball+stick shape\n",
    "view = nv.show_file(path_of_pdb_file)\n",
    "view.clear_representations()\n",
    "view.add_representation(\"ball+stick\")   \n",
    "view\n",
    "\n"
   ]
  },
  {
   "cell_type": "code",
   "execution_count": null,
   "id": "8e15a876",
   "metadata": {
    "execution": {
     "iopub.execute_input": "2025-05-12T09:48:07.320607Z",
     "iopub.status.busy": "2025-05-12T09:48:07.320276Z",
     "iopub.status.idle": "2025-05-12T09:48:07.324331Z",
     "shell.execute_reply": "2025-05-12T09:48:07.32356Z"
    },
    "papermill": {
     "duration": 0.020661,
     "end_time": "2025-05-12T09:48:07.32594",
     "exception": false,
     "start_time": "2025-05-12T09:48:07.305279",
     "status": "completed"
    },
    "tags": []
   },
   "outputs": [],
   "source": [
    "# Show all molecules with cartoon shape\n",
    "view = nv.show_file(path_of_pdb_file)\n",
    "view.clear_representations()\n",
    "view.add_representation(\"cartoon\")     \n",
    "view"
   ]
  },
  {
   "cell_type": "code",
   "execution_count": null,
   "id": "b70eb824",
   "metadata": {
    "execution": {
     "iopub.execute_input": "2025-05-12T09:48:07.355689Z",
     "iopub.status.busy": "2025-05-12T09:48:07.355355Z",
     "iopub.status.idle": "2025-05-12T09:48:07.35938Z",
     "shell.execute_reply": "2025-05-12T09:48:07.35852Z"
    },
    "papermill": {
     "duration": 0.020435,
     "end_time": "2025-05-12T09:48:07.360925",
     "exception": false,
     "start_time": "2025-05-12T09:48:07.34049",
     "status": "completed"
    },
    "tags": []
   },
   "outputs": [],
   "source": [
    "# Show all molecules with licorice shape\n",
    "view = nv.show_file(path_of_pdb_file)\n",
    "view.clear_representations()\n",
    "view.add_representation(\"licorice\")\n",
    "view"
   ]
  },
  {
   "cell_type": "code",
   "execution_count": null,
   "id": "8c0bbced",
   "metadata": {
    "execution": {
     "iopub.execute_input": "2025-05-12T09:48:07.390855Z",
     "iopub.status.busy": "2025-05-12T09:48:07.390538Z",
     "iopub.status.idle": "2025-05-12T09:48:07.394377Z",
     "shell.execute_reply": "2025-05-12T09:48:07.393533Z"
    },
    "papermill": {
     "duration": 0.020371,
     "end_time": "2025-05-12T09:48:07.395766",
     "exception": false,
     "start_time": "2025-05-12T09:48:07.375395",
     "status": "completed"
    },
    "tags": []
   },
   "outputs": [],
   "source": [
    "# Show all molecules with spacefill shape\n",
    "view = nv.show_file(path_of_pdb_file)\n",
    "view.clear_representations()\n",
    "view.add_representation(\"spacefill\")\n",
    "view"
   ]
  },
  {
   "cell_type": "code",
   "execution_count": null,
   "id": "d47a4e44",
   "metadata": {
    "execution": {
     "iopub.execute_input": "2025-05-12T09:48:07.425529Z",
     "iopub.status.busy": "2025-05-12T09:48:07.425154Z",
     "iopub.status.idle": "2025-05-12T09:48:07.429191Z",
     "shell.execute_reply": "2025-05-12T09:48:07.428322Z"
    },
    "papermill": {
     "duration": 0.020566,
     "end_time": "2025-05-12T09:48:07.430657",
     "exception": false,
     "start_time": "2025-05-12T09:48:07.410091",
     "status": "completed"
    },
    "tags": []
   },
   "outputs": [],
   "source": [
    "# Show all molecules with hyperball shape\n",
    "view = nv.show_file(path_of_pdb_file)\n",
    "view.clear_representations()\n",
    "view.add_representation(\"hyperball\")\n",
    "view"
   ]
  },
  {
   "cell_type": "markdown",
   "id": "072c8569",
   "metadata": {
    "papermill": {
     "duration": 0.014295,
     "end_time": "2025-05-12T09:48:07.459436",
     "exception": false,
     "start_time": "2025-05-12T09:48:07.445141",
     "status": "completed"
    },
    "tags": []
   },
   "source": [
    "# <p style=\"background-color:black; font-family:calibri; color:#FFC133; font-size:120%; text-align:center; border-radius:30px 30px;\">6_2. Visualization Base On Specific Part Of Molecules </p>"
   ]
  },
  {
   "cell_type": "code",
   "execution_count": null,
   "id": "278cfdc2",
   "metadata": {
    "execution": {
     "iopub.execute_input": "2025-05-12T09:48:07.489168Z",
     "iopub.status.busy": "2025-05-12T09:48:07.488898Z",
     "iopub.status.idle": "2025-05-12T09:48:07.492949Z",
     "shell.execute_reply": "2025-05-12T09:48:07.492042Z"
    },
    "papermill": {
     "duration": 0.020678,
     "end_time": "2025-05-12T09:48:07.494486",
     "exception": false,
     "start_time": "2025-05-12T09:48:07.473808",
     "status": "completed"
    },
    "tags": []
   },
   "outputs": [],
   "source": [
    "# Show ligands\n",
    "view = nv.show_file(path_of_file)\n",
    "view.clear_representations()\n",
    "view.add_representation(\"hyperball\", \"ligand\")\n",
    "view"
   ]
  },
  {
   "cell_type": "code",
   "execution_count": null,
   "id": "6eccee81",
   "metadata": {
    "execution": {
     "iopub.execute_input": "2025-05-12T09:48:07.525416Z",
     "iopub.status.busy": "2025-05-12T09:48:07.525098Z",
     "iopub.status.idle": "2025-05-12T09:48:07.529679Z",
     "shell.execute_reply": "2025-05-12T09:48:07.528514Z"
    },
    "papermill": {
     "duration": 0.022055,
     "end_time": "2025-05-12T09:48:07.531388",
     "exception": false,
     "start_time": "2025-05-12T09:48:07.509333",
     "status": "completed"
    },
    "tags": []
   },
   "outputs": [],
   "source": [
    "# Show protein\n",
    "view = nv.show_file(path_of_file)\n",
    "view.clear_representations()\n",
    "view.add_representation(\"cartoon\", \"protein\")\n",
    "view"
   ]
  },
  {
   "cell_type": "code",
   "execution_count": null,
   "id": "ee0d9e85",
   "metadata": {
    "execution": {
     "iopub.execute_input": "2025-05-12T09:48:07.562672Z",
     "iopub.status.busy": "2025-05-12T09:48:07.562322Z",
     "iopub.status.idle": "2025-05-12T09:48:07.566458Z",
     "shell.execute_reply": "2025-05-12T09:48:07.565622Z"
    },
    "papermill": {
     "duration": 0.021484,
     "end_time": "2025-05-12T09:48:07.567909",
     "exception": false,
     "start_time": "2025-05-12T09:48:07.546425",
     "status": "completed"
    },
    "tags": []
   },
   "outputs": [],
   "source": [
    "# Show the protein and ligand in different shape\n",
    "view = nv.show_file(path_of_file)\n",
    "view.clear_representations()\n",
    "view.add_representation(\"cartoon\", \"protein\")\n",
    "view.add_representation(\"hyperball\", \"ligand\")\n",
    "view"
   ]
  },
  {
   "cell_type": "code",
   "execution_count": null,
   "id": "35b67a6f",
   "metadata": {
    "execution": {
     "iopub.execute_input": "2025-05-12T09:48:07.599654Z",
     "iopub.status.busy": "2025-05-12T09:48:07.598964Z",
     "iopub.status.idle": "2025-05-12T09:48:07.602742Z",
     "shell.execute_reply": "2025-05-12T09:48:07.602022Z"
    },
    "papermill": {
     "duration": 0.021149,
     "end_time": "2025-05-12T09:48:07.604186",
     "exception": false,
     "start_time": "2025-05-12T09:48:07.583037",
     "status": "completed"
    },
    "tags": []
   },
   "outputs": [],
   "source": [
    "# Show water\n",
    "view = nv.show_file(path_of_file)\n",
    "view.clear_representations()\n",
    "view.add_representation(\"hyperball\", \"water\")\n",
    "view"
   ]
  },
  {
   "cell_type": "code",
   "execution_count": null,
   "id": "3474f14d",
   "metadata": {
    "execution": {
     "iopub.execute_input": "2025-05-12T09:48:07.634813Z",
     "iopub.status.busy": "2025-05-12T09:48:07.634193Z",
     "iopub.status.idle": "2025-05-12T09:48:07.638539Z",
     "shell.execute_reply": "2025-05-12T09:48:07.637626Z"
    },
    "papermill": {
     "duration": 0.021018,
     "end_time": "2025-05-12T09:48:07.640121",
     "exception": false,
     "start_time": "2025-05-12T09:48:07.619103",
     "status": "completed"
    },
    "tags": []
   },
   "outputs": [],
   "source": [
    "# Show the ligand and water\n",
    "view = nv.show_file(path_of_file)\n",
    "view.clear_representations()\n",
    "view.add_representation(\"hyperball\", \"water\")\n",
    "view.add_representation(\"ball+stick\", \"ligand\")\n",
    "view"
   ]
  },
  {
   "cell_type": "code",
   "execution_count": null,
   "id": "1072c7b1",
   "metadata": {
    "execution": {
     "iopub.execute_input": "2025-05-12T09:48:07.671302Z",
     "iopub.status.busy": "2025-05-12T09:48:07.670979Z",
     "iopub.status.idle": "2025-05-12T09:48:07.675214Z",
     "shell.execute_reply": "2025-05-12T09:48:07.674496Z"
    },
    "papermill": {
     "duration": 0.021837,
     "end_time": "2025-05-12T09:48:07.676587",
     "exception": false,
     "start_time": "2025-05-12T09:48:07.65475",
     "status": "completed"
    },
    "tags": []
   },
   "outputs": [],
   "source": [
    "# Show the protein and water\n",
    "view = nv.show_file(path_of_file)\n",
    "view.clear_representations()\n",
    "view.add_representation(\"cartoon\", \"protein\")\n",
    "view.add_representation(\"hyperball\", \"water\")\n",
    "view"
   ]
  },
  {
   "cell_type": "code",
   "execution_count": null,
   "id": "6d99a9ed",
   "metadata": {
    "execution": {
     "iopub.execute_input": "2025-05-12T09:48:07.707019Z",
     "iopub.status.busy": "2025-05-12T09:48:07.706745Z",
     "iopub.status.idle": "2025-05-12T09:48:07.710959Z",
     "shell.execute_reply": "2025-05-12T09:48:07.710078Z"
    },
    "papermill": {
     "duration": 0.021165,
     "end_time": "2025-05-12T09:48:07.71253",
     "exception": false,
     "start_time": "2025-05-12T09:48:07.691365",
     "status": "completed"
    },
    "tags": []
   },
   "outputs": [],
   "source": [
    "# Show All The Molecules\n",
    "view = nv.show_file(path_of_file)\n",
    "view.clear_representations()\n",
    "view.add_representation(\"surface\", \"protein\", opacity=0.9)\n",
    "view.add_representation(\"hyperball\", \"water\", color=\"blue\")\n",
    "view.add_representation(\"ball+stick\", \"ligand\", color=\"red\")\n",
    "view"
   ]
  },
  {
   "cell_type": "code",
   "execution_count": null,
   "id": "9613809c",
   "metadata": {
    "execution": {
     "iopub.execute_input": "2025-05-12T09:48:07.744716Z",
     "iopub.status.busy": "2025-05-12T09:48:07.743974Z",
     "iopub.status.idle": "2025-05-12T09:48:07.748184Z",
     "shell.execute_reply": "2025-05-12T09:48:07.747285Z"
    },
    "papermill": {
     "duration": 0.020792,
     "end_time": "2025-05-12T09:48:07.749651",
     "exception": false,
     "start_time": "2025-05-12T09:48:07.728859",
     "status": "completed"
    },
    "tags": []
   },
   "outputs": [],
   "source": [
    "# Show the protein and ligand with different color\n",
    "view = nv.show_file(path_of_file)\n",
    "view.clear_representations()\n",
    "view.add_representation(\"cartoon\", \"protein\", color=\"blue\", opacity=0.4)\n",
    "view.add_representation(\"licorice\", \"ligand\", color=\"red\", opacity=0.9)\n",
    "view"
   ]
  },
  {
   "cell_type": "markdown",
   "id": "5371584c",
   "metadata": {
    "papermill": {
     "duration": 0.014395,
     "end_time": "2025-05-12T09:48:07.778816",
     "exception": false,
     "start_time": "2025-05-12T09:48:07.764421",
     "status": "completed"
    },
    "tags": []
   },
   "source": [
    "# <p style=\"background-color:black; font-family:calibri; color:#FFC133; font-size:120%; text-align:center; border-radius:30px 30px;\">6_3. Visualization With Contacts </p>"
   ]
  },
  {
   "cell_type": "code",
   "execution_count": null,
   "id": "3cf82ad8",
   "metadata": {
    "execution": {
     "iopub.execute_input": "2025-05-12T09:48:07.809434Z",
     "iopub.status.busy": "2025-05-12T09:48:07.809106Z",
     "iopub.status.idle": "2025-05-12T09:48:07.813092Z",
     "shell.execute_reply": "2025-05-12T09:48:07.812281Z"
    },
    "papermill": {
     "duration": 0.020934,
     "end_time": "2025-05-12T09:48:07.814637",
     "exception": false,
     "start_time": "2025-05-12T09:48:07.793703",
     "status": "completed"
    },
    "tags": []
   },
   "outputs": [],
   "source": [
    "# Show the contact\n",
    "view = nv.show_file(path_of_file)\n",
    "view.clear_representations()\n",
    "view.add_representation(\"cartoon\", \"protein\", color=\"blue\", opacity=0.4)\n",
    "view.add_representation(\"licorice\", \"ligand\", color=\"red\", opacity=0.9)\n",
    "view.add_representation(\"contact\")\n",
    "view"
   ]
  },
  {
   "cell_type": "markdown",
   "id": "a2091ac5",
   "metadata": {
    "papermill": {
     "duration": 0.014512,
     "end_time": "2025-05-12T09:48:07.846794",
     "exception": false,
     "start_time": "2025-05-12T09:48:07.832282",
     "status": "completed"
    },
    "tags": []
   },
   "source": [
    "# <p style=\"background-color:black; font-family:calibri; color:#FF00FF; font-size:170%; text-align:center; border-radius:30px 30px;\">7. The Seventh Step | Save Image</p>"
   ]
  },
  {
   "cell_type": "code",
   "execution_count": null,
   "id": "7c772ac8",
   "metadata": {
    "execution": {
     "iopub.execute_input": "2025-05-12T09:48:07.878265Z",
     "iopub.status.busy": "2025-05-12T09:48:07.877917Z",
     "iopub.status.idle": "2025-05-12T09:48:07.882005Z",
     "shell.execute_reply": "2025-05-12T09:48:07.881155Z"
    },
    "papermill": {
     "duration": 0.021573,
     "end_time": "2025-05-12T09:48:07.883669",
     "exception": false,
     "start_time": "2025-05-12T09:48:07.862096",
     "status": "completed"
    },
    "tags": []
   },
   "outputs": [],
   "source": [
    "# Create a new directory\n",
    "os.mkdir(\"/kaggle/working/image\")"
   ]
  },
  {
   "cell_type": "code",
   "execution_count": null,
   "id": "9e0394df",
   "metadata": {
    "execution": {
     "iopub.execute_input": "2025-05-12T09:48:07.915791Z",
     "iopub.status.busy": "2025-05-12T09:48:07.915096Z",
     "iopub.status.idle": "2025-05-12T09:48:07.918883Z",
     "shell.execute_reply": "2025-05-12T09:48:07.918091Z"
    },
    "papermill": {
     "duration": 0.021467,
     "end_time": "2025-05-12T09:48:07.920571",
     "exception": false,
     "start_time": "2025-05-12T09:48:07.899104",
     "status": "completed"
    },
    "tags": []
   },
   "outputs": [],
   "source": [
    "# render the image\n",
    "view.render_image()"
   ]
  },
  {
   "cell_type": "code",
   "execution_count": null,
   "id": "3e106a0c",
   "metadata": {
    "execution": {
     "iopub.execute_input": "2025-05-12T09:48:07.951584Z",
     "iopub.status.busy": "2025-05-12T09:48:07.9513Z",
     "iopub.status.idle": "2025-05-12T09:48:07.955346Z",
     "shell.execute_reply": "2025-05-12T09:48:07.954448Z"
    },
    "papermill": {
     "duration": 0.02145,
     "end_time": "2025-05-12T09:48:07.956873",
     "exception": false,
     "start_time": "2025-05-12T09:48:07.935423",
     "status": "completed"
    },
    "tags": []
   },
   "outputs": [],
   "source": [
    "# Download image\n",
    "view.download_image(\"/kaggle/working/image/2v0z.png\")"
   ]
  },
  {
   "cell_type": "markdown",
   "id": "33b5d5e4",
   "metadata": {
    "papermill": {
     "duration": 0.01431,
     "end_time": "2025-05-12T09:48:07.985975",
     "exception": false,
     "start_time": "2025-05-12T09:48:07.971665",
     "status": "completed"
    },
    "tags": []
   },
   "source": [
    "<center> \n",
    "<img style=\"border-radius: 200px 200px 200px 200px\" src=https://static.vecteezy.com/system/resources/thumbnails/024/795/537/original/loop-thank-you-for-visiting-golden-light-motion-text-free-video.jpg height=500px width=900px border-radius=45%>\n",
    "</center>"
   ]
  }
 ],
 "metadata": {
  "kaggle": {
   "accelerator": "none",
   "dataSources": [],
   "dockerImageVersionId": 31012,
   "isGpuEnabled": false,
   "isInternetEnabled": true,
   "language": "python",
   "sourceType": "notebook"
  },
  "kernelspec": {
   "display_name": "venv",
   "language": "python",
   "name": "python3"
  },
  "language_info": {
   "codemirror_mode": {
    "name": "ipython",
    "version": 3
   },
   "file_extension": ".py",
   "mimetype": "text/x-python",
   "name": "python",
   "nbconvert_exporter": "python",
   "pygments_lexer": "ipython3",
   "version": "3.13.3"
  },
  "papermill": {
   "default_parameters": {},
   "duration": 21.495764,
   "end_time": "2025-05-12T09:48:08.623315",
   "environment_variables": {},
   "exception": null,
   "input_path": "__notebook__.ipynb",
   "output_path": "__notebook__.ipynb",
   "parameters": {},
   "start_time": "2025-05-12T09:47:47.127551",
   "version": "2.6.0"
  }
 },
 "nbformat": 4,
 "nbformat_minor": 5
}
